{
 "cells": [
  {
   "cell_type": "code",
   "execution_count": 49,
   "metadata": {},
   "outputs": [],
   "source": [
    "import xmltodict\n",
    "import requests\n",
    "import json"
   ]
  },
  {
   "cell_type": "code",
   "execution_count": 50,
   "metadata": {},
   "outputs": [],
   "source": [
    "url_road = \\\n",
    "    'http://apis.data.go.kr/1611000/AptListService/getRoadnameAptList?' \\\n",
    "    'roadCode=263802006002' \\\n",
    "    '&ServiceKey=aT8%2FTBG8hGkv%2BYtyPqc%2FPhTFkLeNJqNqITQu120BvseWmbAqVhHLN7XB3tijd471W9%2Fy8Zbx6sVNgvoPXjtUSw%3D%3D'\n",
    "\n",
    "url_bjd = \\\n",
    "    'http://apis.data.go.kr/1611000/AptListService/getLegaldongAptList?' \\\n",
    "    'bjdCode=1120011400' \\\n",
    "    '&ServiceKey=V8giduxGZ%2BU463maB552xw3jULhTVPrv%2B7m2qSqu4w8el9fk8bnMD9i6rjUQz7gcUcFnDKyOmcCBztcbVx3Ljg%3D%3D'\n",
    "\n",
    "# response = requests.get(url_bjd)\n"
   ]
  },
  {
   "cell_type": "code",
   "execution_count": 51,
   "metadata": {},
   "outputs": [],
   "source": [
    "response = requests.get(url_bjd).content\n",
    "xmlObj = xmltodict.parse(response)\n",
    "json_data = json.dumps(xmlObj, ensure_ascii=False)\n",
    "dict_data = json.loads((json_data))\n"
   ]
  },
  {
   "cell_type": "code",
   "execution_count": 52,
   "metadata": {},
   "outputs": [
    {
     "data": {
      "text/plain": [
       "{'response': {'header': {'resultCode': '00', 'resultMsg': 'NORMAL SERVICE.'},\n",
       "  'body': {'items': {'item': [{'kaptCode': 'A13382502', 'kaptName': '성수현대'},\n",
       "     {'kaptCode': 'A13311101', 'kaptName': '성수금호3차'},\n",
       "     {'kaptCode': 'A13384301', 'kaptName': '한양현대아파트'},\n",
       "     {'kaptCode': 'A13372102', 'kaptName': '성수쌍용'},\n",
       "     {'kaptCode': 'A13379401', 'kaptName': '성수갤러리아포레'},\n",
       "     {'kaptCode': 'A13372101', 'kaptName': '성수2차대우'},\n",
       "     {'kaptCode': 'A13376405', 'kaptName': '성수한진타운'},\n",
       "     {'kaptCode': 'A13384304', 'kaptName': '성수동아그린'},\n",
       "     {'kaptCode': 'A13392307', 'kaptName': '강변건영'},\n",
       "     {'kaptCode': 'A13384303', 'kaptName': '뚝섬중앙하이츠빌'}]},\n",
       "   'numOfRows': '10',\n",
       "   'pageNo': '1',\n",
       "   'totalCount': '14'}}}"
      ]
     },
     "execution_count": 52,
     "metadata": {},
     "output_type": "execute_result"
    }
   ],
   "source": [
    "dict_data"
   ]
  },
  {
   "cell_type": "code",
   "execution_count": 53,
   "metadata": {},
   "outputs": [],
   "source": [
    "data = dict_data['response']['body']['items']['item']"
   ]
  },
  {
   "cell_type": "code",
   "execution_count": 54,
   "metadata": {},
   "outputs": [
    {
     "data": {
      "text/plain": [
       "[{'kaptCode': 'A13382502', 'kaptName': '성수현대'},\n",
       " {'kaptCode': 'A13311101', 'kaptName': '성수금호3차'},\n",
       " {'kaptCode': 'A13384301', 'kaptName': '한양현대아파트'},\n",
       " {'kaptCode': 'A13372102', 'kaptName': '성수쌍용'},\n",
       " {'kaptCode': 'A13379401', 'kaptName': '성수갤러리아포레'},\n",
       " {'kaptCode': 'A13372101', 'kaptName': '성수2차대우'},\n",
       " {'kaptCode': 'A13376405', 'kaptName': '성수한진타운'},\n",
       " {'kaptCode': 'A13384304', 'kaptName': '성수동아그린'},\n",
       " {'kaptCode': 'A13392307', 'kaptName': '강변건영'},\n",
       " {'kaptCode': 'A13384303', 'kaptName': '뚝섬중앙하이츠빌'}]"
      ]
     },
     "execution_count": 54,
     "metadata": {},
     "output_type": "execute_result"
    }
   ],
   "source": [
    "data"
   ]
  },
  {
   "cell_type": "code",
   "execution_count": null,
   "metadata": {},
   "outputs": [],
   "source": []
  }
 ],
 "metadata": {
  "kernelspec": {
   "display_name": "Python 3",
   "language": "python",
   "name": "python3"
  },
  "language_info": {
   "codemirror_mode": {
    "name": "ipython",
    "version": 3
   },
   "file_extension": ".py",
   "mimetype": "text/x-python",
   "name": "python",
   "nbconvert_exporter": "python",
   "pygments_lexer": "ipython3",
   "version": "3.7.4"
  }
 },
 "nbformat": 4,
 "nbformat_minor": 4
}
