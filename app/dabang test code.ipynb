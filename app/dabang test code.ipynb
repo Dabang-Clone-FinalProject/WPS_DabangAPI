{
 "cells": [
  {
   "cell_type": "code",
   "execution_count": 1,
   "metadata": {},
   "outputs": [],
   "source": [
    "import os\n",
    "import re\n",
    "import time\n",
    "import urllib\n",
    "import requests\n",
    "from django.core.files import File\n",
    "from selenium import webdriver\n",
    "from selenium.common.exceptions import NoSuchElementException, UnexpectedAlertPresentException\n",
    "import json"
   ]
  },
  {
   "cell_type": "code",
   "execution_count": 2,
   "metadata": {},
   "outputs": [],
   "source": [
    "driver = webdriver.Chrome('/Users/mac/projects/ChromeWebDriver/chromedriver')"
   ]
  },
  {
   "cell_type": "code",
   "execution_count": 4,
   "metadata": {},
   "outputs": [],
   "source": [
    "driver.get('https://www.dabangapp.com/room/5e992d31d9d3a15c88491696')"
   ]
  },
  {
   "cell_type": "code",
   "execution_count": 5,
   "metadata": {},
   "outputs": [],
   "source": [
    "post_type = driver.find_element_by_xpath('/html/body/div[1]/div/div[1]/div/ul/li[1]/p/span')\n",
    "post_type = post_type.get_attribute('innerText')\n",
    "\n",
    "# 방 정보 설명\n",
    "description = driver.find_elements_by_xpath(\"/html/body/div[1]/div/div[4]/div/div\")\n",
    "description = description[0].get_attribute(\"innerText\")\n",
    "description.replace(\"\\n\", \"\")\n",
    "\n",
    "# 매물 형식\n",
    "unrefined_salesform = driver.find_elements_by_xpath('/html/body/div[1]/div/div[1]/div/ul/li[1]/div')\n",
    "salesForm = unrefined_salesform[0].get_attribute(\"innerText\")\n",
    "salesForm = salesForm.replace('/', ' ')\n",
    "salesForm = salesForm.replace('\\n', '')\n",
    "salesForm = salesForm.split()\n",
    "salesType = salesForm[0]  # sales type\n"
   ]
  },
  {
   "cell_type": "code",
   "execution_count": 6,
   "metadata": {},
   "outputs": [
    {
     "name": "stdout",
     "output_type": "stream",
     "text": [
      "아파트 월세\n"
     ]
    }
   ],
   "source": [
    "print(post_type, salesType)"
   ]
  },
  {
   "cell_type": "code",
   "execution_count": 7,
   "metadata": {},
   "outputs": [
    {
     "data": {
      "text/plain": [
       "'https://www.dabangapp.com/complex/58291f8aa0c08473a04bb32c841c'"
      ]
     },
     "execution_count": 7,
     "metadata": {},
     "output_type": "execute_result"
    }
   ],
   "source": [
    "complex_detail_url = driver.find_element_by_xpath('/html/body/div[1]/div/div[5]/div[2]/div/a')\n",
    "complex_detail_url = complex_detail_url.get_attribute('href')\n",
    "complex_detail_url"
   ]
  },
  {
   "cell_type": "code",
   "execution_count": 12,
   "metadata": {},
   "outputs": [],
   "source": [
    "driver.get(complex_detail_url)"
   ]
  },
  {
   "cell_type": "code",
   "execution_count": 13,
   "metadata": {},
   "outputs": [
    {
     "data": {
      "text/plain": [
       "'트리마제'"
      ]
     },
     "execution_count": 13,
     "metadata": {},
     "output_type": "execute_result"
    }
   ],
   "source": [
    "apart_name = driver.find_element_by_xpath('/html/body/div[1]/div/div[1]/div/div/h1')\n",
    "apart_name = apart_name.get_attribute('innerText')\n",
    "apart_name"
   ]
  },
  {
   "cell_type": "code",
   "execution_count": 14,
   "metadata": {},
   "outputs": [
    {
     "data": {
      "text/plain": [
       "'2017.05'"
      ]
     },
     "execution_count": 14,
     "metadata": {},
     "output_type": "execute_result"
    }
   ],
   "source": [
    "made = driver.find_element_by_xpath('/html/body/div[1]/div/div[1]/div/ul/li[1]/p[2]')\n",
    "made = made.get_attribute('innerText')\n",
    "made"
   ]
  },
  {
   "cell_type": "code",
   "execution_count": 15,
   "metadata": {},
   "outputs": [
    {
     "data": {
      "text/plain": [
       "'688세대'"
      ]
     },
     "execution_count": 15,
     "metadata": {},
     "output_type": "execute_result"
    }
   ],
   "source": [
    "total_citizen = driver.find_element_by_xpath('/html/body/div[1]/div/div[1]/div/ul/li[2]/p[2]')\n",
    "total_citizen = total_citizen.get_attribute('innerText')\n",
    "total_citizen"
   ]
  },
  {
   "cell_type": "code",
   "execution_count": 16,
   "metadata": {},
   "outputs": [
    {
     "data": {
      "text/plain": [
       "'1.6대'"
      ]
     },
     "execution_count": 16,
     "metadata": {},
     "output_type": "execute_result"
    }
   ],
   "source": [
    "personal_park = driver.find_element_by_xpath('/html/body/div[1]/div/div[1]/div/ul/li[3]/p[2]')\n",
    "personal_park = personal_park.get_attribute('innerText')\n",
    "if ' ' in personal_park:\n",
    "    personal_park = personal_park.split(' ')\n",
    "    personal_park = personal_park[1]\n",
    "personal_park"
   ]
  },
  {
   "cell_type": "code",
   "execution_count": 17,
   "metadata": {},
   "outputs": [
    {
     "data": {
      "text/plain": [
       "'4동'"
      ]
     },
     "execution_count": 17,
     "metadata": {},
     "output_type": "execute_result"
    }
   ],
   "source": [
    "# 총 동 수 \n",
    "total_number = driver.find_element_by_xpath('/html/body/div[1]/div/div[1]/div/ul/li[4]/p[2]')\n",
    "total_number = total_number.get_attribute('innerText')\n",
    "total_number"
   ]
  },
  {
   "cell_type": "code",
   "execution_count": 18,
   "metadata": {},
   "outputs": [
    {
     "data": {
      "text/plain": [
       "'개별난방'"
      ]
     },
     "execution_count": 18,
     "metadata": {},
     "output_type": "execute_result"
    }
   ],
   "source": [
    "heating_system = driver.find_element_by_xpath('/html/body/div[1]/div/div[1]/div/ul/li[5]/p[2]')\n",
    "heating_system = heating_system.get_attribute('innerText')\n",
    "heating_system"
   ]
  },
  {
   "cell_type": "code",
   "execution_count": 19,
   "metadata": {},
   "outputs": [
    {
     "data": {
      "text/plain": [
       "'28-47층'"
      ]
     },
     "execution_count": 19,
     "metadata": {},
     "output_type": "execute_result"
    }
   ],
   "source": [
    "min_max_floor = driver.find_element_by_xpath('/html/body/div[1]/div/div[1]/div/ul/li[6]/p[2]')\n",
    "min_max_floor = min_max_floor.get_attribute('innerText')\n",
    "min_max_floor"
   ]
  },
  {
   "cell_type": "code",
   "execution_count": 20,
   "metadata": {},
   "outputs": [
    {
     "data": {
      "text/plain": [
       "'아파트'"
      ]
     },
     "execution_count": 20,
     "metadata": {},
     "output_type": "execute_result"
    }
   ],
   "source": [
    "buildingType = driver.find_element_by_xpath('/html/body/div[1]/div/div[2]/div/table/tbody/tr[1]/td[1]')\n",
    "buildingType = buildingType.get_attribute('innerText')\n",
    "buildingType"
   ]
  },
  {
   "cell_type": "code",
   "execution_count": 21,
   "metadata": {},
   "outputs": [
    {
     "data": {
      "text/plain": [
       "'두산중공업(주)'"
      ]
     },
     "execution_count": 21,
     "metadata": {},
     "output_type": "execute_result"
    }
   ],
   "source": [
    "constructionCompany = driver.find_element_by_xpath('/html/body/div[1]/div/div[2]/div/table/tbody/tr[1]/td[2]')\n",
    "constructionCompany = constructionCompany.get_attribute('innerText')\n",
    "constructionCompany"
   ]
  },
  {
   "cell_type": "code",
   "execution_count": 22,
   "metadata": {},
   "outputs": [
    {
     "data": {
      "text/plain": [
       "'도시가스'"
      ]
     },
     "execution_count": 22,
     "metadata": {},
     "output_type": "execute_result"
    }
   ],
   "source": [
    "fuel = driver.find_element_by_xpath('/html/body/div[1]/div/div[2]/div/table/tbody/tr[1]/td[4]')\n",
    "fuel = fuel.get_attribute('innerText')\n",
    "fuel"
   ]
  },
  {
   "cell_type": "code",
   "execution_count": 23,
   "metadata": {},
   "outputs": [
    {
     "data": {
      "text/plain": [
       "'계단식'"
      ]
     },
     "execution_count": 23,
     "metadata": {},
     "output_type": "execute_result"
    }
   ],
   "source": [
    "complex_type = driver.find_element_by_xpath('/html/body/div[1]/div/div[2]/div/table/tbody/tr[2]/td[1]')\n",
    "complex_type = complex_type.get_attribute('innerText')\n",
    "complex_type"
   ]
  },
  {
   "cell_type": "code",
   "execution_count": 24,
   "metadata": {},
   "outputs": [
    {
     "data": {
      "text/plain": [
       "'319%'"
      ]
     },
     "execution_count": 24,
     "metadata": {},
     "output_type": "execute_result"
    }
   ],
   "source": [
    "# 용적률\n",
    "floorAreaRatio = driver.find_element_by_xpath('/html/body/div[1]/div/div[2]/div/table/tbody/tr[2]/td[2]')\n",
    "floorAreaRatio = floorAreaRatio.get_attribute('innerText')\n",
    "floorAreaRatio"
   ]
  },
  {
   "cell_type": "code",
   "execution_count": 25,
   "metadata": {},
   "outputs": [
    {
     "data": {
      "text/plain": [
       "'16%'"
      ]
     },
     "execution_count": 25,
     "metadata": {},
     "output_type": "execute_result"
    }
   ],
   "source": [
    "# 건폐율\n",
    "dryWasteRate = driver.find_element_by_xpath('/html/body/div[1]/div/div[2]/div/table/tbody/tr[2]/td[3]')\n",
    "dryWasteRate = dryWasteRate.get_attribute('innerText')\n",
    "dryWasteRate"
   ]
  },
  {
   "cell_type": "code",
   "execution_count": 26,
   "metadata": {},
   "outputs": [
    {
     "data": {
      "text/plain": [
       "'-'"
      ]
     },
     "execution_count": 26,
     "metadata": {},
     "output_type": "execute_result"
    }
   ],
   "source": [
    "# 단지평당가 매매 \n",
    "complexSale = driver.find_element_by_xpath('/html/body/div[1]/div/div[5]/div[1]/div/div/div/div[1]/p[3]')\n",
    "complexSale = complexSale.get_attribute('innerText')\n",
    "complexSale "
   ]
  },
  {
   "cell_type": "code",
   "execution_count": 27,
   "metadata": {},
   "outputs": [
    {
     "data": {
      "text/plain": [
       "'-'"
      ]
     },
     "execution_count": 27,
     "metadata": {},
     "output_type": "execute_result"
    }
   ],
   "source": [
    "# 단지평당가 전세\n",
    "complexPrice = driver.find_element_by_xpath('/html/body/div[1]/div/div[5]/div[1]/div/div/div/div[1]/p[5]')\n",
    "complexPrice = complexPrice.get_attribute('innerText')\n",
    "complexPrice"
   ]
  },
  {
   "cell_type": "code",
   "execution_count": 28,
   "metadata": {},
   "outputs": [
    {
     "data": {
      "text/plain": [
       "'2745만/3.3m²당'"
      ]
     },
     "execution_count": 28,
     "metadata": {},
     "output_type": "execute_result"
    }
   ],
   "source": [
    "areaSale = driver.find_element_by_xpath('/html/body/div[1]/div/div[5]/div[1]/div/div/div/div[2]/p[3]')\n",
    "areaSale = areaSale.get_attribute('innerText')\n",
    "areaSale"
   ]
  },
  {
   "cell_type": "code",
   "execution_count": 29,
   "metadata": {},
   "outputs": [
    {
     "data": {
      "text/plain": [
       "'1602만/3.3m²당'"
      ]
     },
     "execution_count": 29,
     "metadata": {},
     "output_type": "execute_result"
    }
   ],
   "source": [
    "areaPrice = driver.find_element_by_xpath('/html/body/div[1]/div/div[5]/div[1]/div/div/div/div[2]/p[5]')\n",
    "areaPrice = areaPrice.get_attribute('innerText')\n",
    "areaPrice"
   ]
  },
  {
   "cell_type": "code",
   "execution_count": 107,
   "metadata": {},
   "outputs": [],
   "source": [
    "div_list = driver.find_elements_by_xpath('/html/body/div[1]/div/div[3]/div/div/div')\n",
    "\n",
    "recommend_image_list = []\n",
    "\n",
    "for i, url in enumerate(div_list):\n",
    "    try:\n",
    "        cls_name = url.get_attribute('class')\n",
    "        cls_name = cls_name.split(' ')\n",
    "        cls_name = cls_name[1]\n",
    "        photo = driver.execute_script(\n",
    "            f'return window.getComputedStyle(document.querySelector(\".{cls_name}\"),\":after\").getPropertyValue(\"background\")')\n",
    "        recommend_image = re.findall(r'\"(.*?)\"', photo)\n",
    "        recommend_image_list.append(recommend_image[0])\n",
    "    except IndexError:\n",
    "        pass"
   ]
  },
  {
   "cell_type": "code",
   "execution_count": 108,
   "metadata": {
    "scrolled": true
   },
   "outputs": [
    {
     "data": {
      "text/plain": [
       "['https://d2o59jgeq8ig2.cloudfront.net/complex/1024/4baadc0d-64cd-4db0-9e1d-99ef82a1146d',\n",
       " 'https://d2o59jgeq8ig2.cloudfront.net/complex/1024/e64d5ff6-e831-42b3-9289-6a31a6a37c5a',\n",
       " 'https://d2o59jgeq8ig2.cloudfront.net/complex/1024/ea036552-354b-4c08-85bd-d364e2400cf9',\n",
       " 'https://d2o59jgeq8ig2.cloudfront.net/complex/1024/2d74ed1d-0e14-4c28-88d3-79e8e4113cc7',\n",
       " 'https://d2o59jgeq8ig2.cloudfront.net/complex/1024/f05fe592-e5dd-4cb2-842b-7713c7a85103']"
      ]
     },
     "execution_count": 108,
     "metadata": {},
     "output_type": "execute_result"
    }
   ],
   "source": [
    "recommend_image_list"
   ]
  },
  {
   "cell_type": "markdown",
   "metadata": {},
   "source": [
    "# 추천 단지"
   ]
  },
  {
   "cell_type": "code",
   "execution_count": 105,
   "metadata": {},
   "outputs": [],
   "source": [
    "# 아파트 단지 이미지 div\n",
    "div_list = driver.find_elements_by_xpath('/html/body/div[1]/div/div[5]/div[8]/div/ul/li/div/a/div')"
   ]
  },
  {
   "cell_type": "code",
   "execution_count": 44,
   "metadata": {},
   "outputs": [],
   "source": [
    "# 추천 단지 아파트 이름\n",
    "recommend_apat_name_list = driver.find_elements_by_xpath('/html/body/div[1]/div/div[5]/div[8]/div/ul/li/div/a/p[1]')"
   ]
  },
  {
   "cell_type": "code",
   "execution_count": 48,
   "metadata": {},
   "outputs": [],
   "source": [
    "# 추천 단지 아파트\n",
    "recommend_apat_type_list = driver.find_elements_by_xpath('/html/body/div[1]/div/div[5]/div[8]/div/ul/li/div/a/p[2]/span[1]')"
   ]
  },
  {
   "cell_type": "code",
   "execution_count": 52,
   "metadata": {},
   "outputs": [],
   "source": [
    "# 추천 단지 총 세대 수\n",
    "recommend_apat_total_citizen_list = driver.find_elements_by_xpath('/html/body/div[1]/div/div[5]/div[8]/div/ul/li/div/a/p[2]/span[2]')"
   ]
  },
  {
   "cell_type": "code",
   "execution_count": 54,
   "metadata": {},
   "outputs": [],
   "source": [
    "# 추천 단지 설립일자 리스트\n",
    "recommend_apat_build_date_list = driver.find_elements_by_xpath('/html/body/div[1]/div/div[5]/div[8]/div/ul/li/div/a/p[2]/span[3]')"
   ]
  },
  {
   "cell_type": "code",
   "execution_count": 58,
   "metadata": {},
   "outputs": [],
   "source": [
    "# 추천 단지 주소 리스트\n",
    "recommend_apat_address_list = driver.find_elements_by_xpath('/html/body/div[1]/div/div[5]/div[8]/div/ul/li/div/a/p[3]')"
   ]
  },
  {
   "cell_type": "code",
   "execution_count": 61,
   "metadata": {},
   "outputs": [],
   "source": [
    "# 추천 단지 정보 링크 리스트\n",
    "recommend_apat_link_list = driver.find_elements_by_xpath('/html/body/div[1]/div/div[5]/div[8]/div/ul/li/ul/li/a')"
   ]
  },
  {
   "cell_type": "code",
   "execution_count": 106,
   "metadata": {},
   "outputs": [
    {
     "name": "stdout",
     "output_type": "stream",
     "text": [
      "추천단지 이미지 https://d2o59jgeq8ig2.cloudfront.net/complex/1024/48c425e7-7ffd-497b-826d-848f09445b54\n",
      "추천단지 아파트 이름 신동아\n",
      "추천단지 아파트 타입 아파트\n",
      "추천 단지 총 세대 수 636세대\n",
      "추천 단지 설립 일자 1995.05\n",
      "추천 단지 주소 서울특별시 성동구 행당동\n",
      "추천 단지 해당 링크 https://www.dabangapp.com/complex/58291f83f59c8673a0fa98cd41c0\n",
      "\n",
      "\n",
      "추천단지 이미지 https://d2o59jgeq8ig2.cloudfront.net/complex/1024/e43fdadc-132f-4c15-955e-cbed97ec17a6\n",
      "추천단지 아파트 이름 힐스테이트서울숲리버\n",
      "추천단지 아파트 타입 아파트\n",
      "추천 단지 총 세대 수 606세대\n",
      "추천 단지 설립 일자 2018.02\n",
      "추천 단지 주소 서울특별시 성동구 금호동4가\n",
      "추천 단지 해당 링크 https://www.dabangapp.com/complex/58291f8a0f97eb73a071e214d956\n",
      "\n",
      "\n",
      "추천단지 이미지 https://d2o59jgeq8ig2.cloudfront.net/complex/1024/8722fdd0-5a65-41ec-995c-4bc29f2c54be\n",
      "추천단지 아파트 이름 서울숲더샵\n",
      "추천단지 아파트 타입 아파트\n",
      "추천 단지 총 세대 수 495세대\n",
      "추천 단지 설립 일자 2014.09\n",
      "추천 단지 주소 서울특별시 성동구 행당동\n",
      "추천 단지 해당 링크 https://www.dabangapp.com/complex/58291f889dd50c73a059ee805472\n",
      "\n",
      "\n",
      "추천단지 이미지 https://d2o59jgeq8ig2.cloudfront.net/complex/1024/558bff38-121b-48dc-a445-4fa770770c2e\n",
      "추천단지 아파트 이름 행당삼부\n",
      "추천단지 아파트 타입 아파트\n",
      "추천 단지 총 세대 수 498세대\n",
      "추천 단지 설립 일자 1998.07\n",
      "추천 단지 주소 서울특별시 성동구 행당동\n",
      "추천 단지 해당 링크 https://www.dabangapp.com/complex/58291f83f6eb9673a094918e5335\n",
      "\n",
      "\n"
     ]
    }
   ],
   "source": [
    "\n",
    "for i, url in enumerate(div_list):\n",
    "    cls_name = url.get_attribute('class')\n",
    "    cls_name = cls_name.split(' ')\n",
    "    cls_name = cls_name[1]\n",
    "\n",
    "    photo = driver.execute_script(\n",
    "                f'return window.getComputedStyle(document.querySelector(\".{cls_name}\"),\":before\").getPropertyValue(\"background\")')\n",
    "    recommend_image_url = re.findall(r'\"(.*?)\"', photo)\n",
    "    print('추천단지 이미지', recommend_image_url[0])\n",
    "    recommend_apat_name = recommend_apat_name_list[i].get_attribute('innerText')\n",
    "    print('추천단지 아파트 이름', recommend_apat_name)\n",
    "    recommend_apat_type = recommend_apat_type_list[i].get_attribute('innerText')\n",
    "    print('추천단지 아파트 타입', recommend_apat_type)\n",
    "    recommend_apat_total_citizen = recommend_apat_total_citizen_list[i].get_attribute('innerText')\n",
    "    print('추천 단지 총 세대 수', recommend_apat_total_citizen)\n",
    "    recommend_apat_build_date = recommend_apat_build_date_list[i].get_attribute('innerText')\n",
    "    print('추천 단지 설립 일자', recommend_apat_build_date)\n",
    "    recommend_apat_address = recommend_apat_address_list[i].get_attribute('innerText')\n",
    "    print('추천 단지 주소', recommend_apat_address)\n",
    "    recommend_apat_link = recommend_apat_link_list[i].get_attribute('href')\n",
    "    print('추천 단지 해당 링크', recommend_apat_link)\n",
    "    \n",
    "    print('\\n')\n"
   ]
  },
  {
   "cell_type": "code",
   "execution_count": null,
   "metadata": {},
   "outputs": [],
   "source": []
  }
 ],
 "metadata": {
  "kernelspec": {
   "display_name": "Python 3",
   "language": "python",
   "name": "python3"
  },
  "language_info": {
   "codemirror_mode": {
    "name": "ipython",
    "version": 3
   },
   "file_extension": ".py",
   "mimetype": "text/x-python",
   "name": "python",
   "nbconvert_exporter": "python",
   "pygments_lexer": "ipython3",
   "version": "3.7.4"
  }
 },
 "nbformat": 4,
 "nbformat_minor": 4
}
