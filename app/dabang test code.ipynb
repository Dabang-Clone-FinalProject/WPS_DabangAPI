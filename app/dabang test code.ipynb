{
 "cells": [
  {
   "cell_type": "code",
   "execution_count": 49,
   "metadata": {},
   "outputs": [],
   "source": [
    "import xmltodict\n",
    "import requests\n",
    "import json"
   ]
  },
  {
   "cell_type": "code",
   "execution_count": 50,
   "metadata": {},
   "outputs": [],
   "source": [
    "url_road = \\\n",
    "    'http://apis.data.go.kr/1611000/AptListService/getRoadnameAptList?' \\\n",
    "    'roadCode=263802006002' \\\n",
    "    '&ServiceKey=aT8%2FTBG8hGkv%2BYtyPqc%2FPhTFkLeNJqNqITQu120BvseWmbAqVhHLN7XB3tijd471W9%2Fy8Zbx6sVNgvoPXjtUSw%3D%3D'\n",
    "\n",
    "url_bjd = \\\n",
    "    'http://apis.data.go.kr/1611000/AptListService/getLegaldongAptList?' \\\n",
    "    'bjdCode=1120011400' \\\n",
    "    '&ServiceKey=V8giduxGZ%2BU463maB552xw3jULhTVPrv%2B7m2qSqu4w8el9fk8bnMD9i6rjUQz7gcUcFnDKyOmcCBztcbVx3Ljg%3D%3D'\n",
    "\n",
    "# response = requests.get(url_bjd)\n"
   ]
  },
  {
   "cell_type": "code",
   "execution_count": 51,
   "metadata": {},
   "outputs": [],
   "source": [
    "response = requests.get(url_bjd).content\n",
    "xmlObj = xmltodict.parse(response)\n",
    "json_data = json.dumps(xmlObj, ensure_ascii=False)\n",
    "dict_data = json.loads((json_data))\n"
   ]
  },
  {
   "cell_type": "code",
   "execution_count": 52,
   "metadata": {},
   "outputs": [
    {
     "data": {
      "text/plain": [
       "{'response': {'header': {'resultCode': '00', 'resultMsg': 'NORMAL SERVICE.'},\n",
       "  'body': {'items': {'item': [{'kaptCode': 'A13382502', 'kaptName': '성수현대'},\n",
       "     {'kaptCode': 'A13311101', 'kaptName': '성수금호3차'},\n",
       "     {'kaptCode': 'A13384301', 'kaptName': '한양현대아파트'},\n",
       "     {'kaptCode': 'A13372102', 'kaptName': '성수쌍용'},\n",
       "     {'kaptCode': 'A13379401', 'kaptName': '성수갤러리아포레'},\n",
       "     {'kaptCode': 'A13372101', 'kaptName': '성수2차대우'},\n",
       "     {'kaptCode': 'A13376405', 'kaptName': '성수한진타운'},\n",
       "     {'kaptCode': 'A13384304', 'kaptName': '성수동아그린'},\n",
       "     {'kaptCode': 'A13392307', 'kaptName': '강변건영'},\n",
       "     {'kaptCode': 'A13384303', 'kaptName': '뚝섬중앙하이츠빌'}]},\n",
       "   'numOfRows': '10',\n",
       "   'pageNo': '1',\n",
       "   'totalCount': '14'}}}"
      ]
     },
     "execution_count": 52,
     "metadata": {},
     "output_type": "execute_result"
    }
   ],
   "source": [
    "dict_data"
   ]
  },
  {
   "cell_type": "code",
   "execution_count": 53,
   "metadata": {},
   "outputs": [],
   "source": [
    "data = dict_data['response']['body']['items']['item']"
   ]
  },
  {
   "cell_type": "code",
   "execution_count": 54,
   "metadata": {},
   "outputs": [
    {
     "data": {
      "text/plain": [
       "[{'kaptCode': 'A13382502', 'kaptName': '성수현대'},\n",
       " {'kaptCode': 'A13311101', 'kaptName': '성수금호3차'},\n",
       " {'kaptCode': 'A13384301', 'kaptName': '한양현대아파트'},\n",
       " {'kaptCode': 'A13372102', 'kaptName': '성수쌍용'},\n",
       " {'kaptCode': 'A13379401', 'kaptName': '성수갤러리아포레'},\n",
       " {'kaptCode': 'A13372101', 'kaptName': '성수2차대우'},\n",
       " {'kaptCode': 'A13376405', 'kaptName': '성수한진타운'},\n",
       " {'kaptCode': 'A13384304', 'kaptName': '성수동아그린'},\n",
       " {'kaptCode': 'A13392307', 'kaptName': '강변건영'},\n",
       " {'kaptCode': 'A13384303', 'kaptName': '뚝섬중앙하이츠빌'}]"
      ]
     },
     "execution_count": 54,
     "metadata": {},
     "output_type": "execute_result"
    }
   ],
   "source": [
    "data"
   ]
  },
  {
   "cell_type": "code",
   "execution_count": 57,
   "metadata": {},
   "outputs": [],
   "source": [
    "from selenium import webdriver\n",
    "from selenium.common.exceptions import NoSuchElementException, UnexpectedAlertPresentException\n",
    "import os\n",
    "import re\n",
    "import time\n",
    "import urllib\n"
   ]
  },
  {
   "cell_type": "code",
   "execution_count": 58,
   "metadata": {},
   "outputs": [],
   "source": [
    "driver = webdriver.Chrome('/Users/mac/projects/ChromeWebDriver/chromedriver')\n"
   ]
  },
  {
   "cell_type": "code",
   "execution_count": 59,
   "metadata": {},
   "outputs": [],
   "source": [
    "url = 'https://www.dabangapp.com/room/5e4b99581a00fb457ff0ef63'"
   ]
  },
  {
   "cell_type": "code",
   "execution_count": 60,
   "metadata": {},
   "outputs": [],
   "source": [
    "driver.get(url)"
   ]
  },
  {
   "cell_type": "code",
   "execution_count": 61,
   "metadata": {},
   "outputs": [],
   "source": [
    "moveIn = driver.find_element_by_xpath('/html/body/div[1]/div/div[2]/div/ul/li[9]/div')"
   ]
  },
  {
   "cell_type": "code",
   "execution_count": 62,
   "metadata": {},
   "outputs": [],
   "source": [
    "moveIn = moveIn.get_attribute('innerText')"
   ]
  },
  {
   "cell_type": "code",
   "execution_count": 63,
   "metadata": {},
   "outputs": [
    {
     "data": {
      "text/plain": [
       "'2020.03.23'"
      ]
     },
     "execution_count": 63,
     "metadata": {},
     "output_type": "execute_result"
    }
   ],
   "source": [
    "moveIn"
   ]
  },
  {
   "cell_type": "code",
   "execution_count": null,
   "metadata": {},
   "outputs": [],
   "source": []
  },
  {
   "cell_type": "code",
   "execution_count": 64,
   "metadata": {},
   "outputs": [],
   "source": [
    "test_url = 'https://www.dabangapp.com/room/5e9e3d85da8873165c0640f4'\n",
    "driver.get(test_url)"
   ]
  },
  {
   "cell_type": "code",
   "execution_count": 65,
   "metadata": {},
   "outputs": [],
   "source": [
    "test = driver.find_element_by_xpath('/html/body/div[1]/div/div[2]/div/ul/li[9]/div')\n",
    "test = test.get_attribute('innerText')"
   ]
  },
  {
   "cell_type": "code",
   "execution_count": 67,
   "metadata": {},
   "outputs": [
    {
     "name": "stdout",
     "output_type": "stream",
     "text": [
      "<class 'str'>\n"
     ]
    }
   ],
   "source": [
    "print(type(test))"
   ]
  },
  {
   "cell_type": "code",
   "execution_count": 68,
   "metadata": {},
   "outputs": [
    {
     "name": "stdout",
     "output_type": "stream",
     "text": [
      "<class 'str'>\n"
     ]
    }
   ],
   "source": [
    "date = '날짜 협의'\n",
    "print(type(date))"
   ]
  },
  {
   "cell_type": "code",
   "execution_count": 71,
   "metadata": {},
   "outputs": [
    {
     "name": "stdout",
     "output_type": "stream",
     "text": [
      "2020.03.23\n"
     ]
    }
   ],
   "source": [
    "if '날짜' in moveIn:\n",
    "    print('날짜 있음')\n",
    "elif '즉시' in moveIn:\n",
    "    prnt(\"즉시 입주\")\n",
    "else: \n",
    "    print(moveIn)"
   ]
  },
  {
   "cell_type": "code",
   "execution_count": 77,
   "metadata": {},
   "outputs": [],
   "source": [
    "moveIn = '2020.03.23'"
   ]
  },
  {
   "cell_type": "code",
   "execution_count": 79,
   "metadata": {},
   "outputs": [],
   "source": [
    "if '날짜' in moveIn:\n",
    "    print('날짜 있음')\n",
    "elif '즉시' in moveIn:\n",
    "    print(\"즉시 입주\")\n",
    "else: \n",
    "    moveIn= moveIn.replace('.', '-')"
   ]
  },
  {
   "cell_type": "code",
   "execution_count": 80,
   "metadata": {},
   "outputs": [
    {
     "data": {
      "text/plain": [
       "'2020-03-23'"
      ]
     },
     "execution_count": 80,
     "metadata": {},
     "output_type": "execute_result"
    }
   ],
   "source": [
    "moveIn"
   ]
  },
  {
   "cell_type": "code",
   "execution_count": 81,
   "metadata": {},
   "outputs": [],
   "source": [
    "url = 'https://www.dabangapp.com/room/5e94139c0eb4bb3b5f8d29c4'\n",
    "driver.get(url)\n",
    "\n",
    "parking = driver.find_element_by_xpath('/html/body/div[1]/div/div[5]/div[2]/div/table/tbody/tr/td[4]/p')"
   ]
  },
  {
   "cell_type": "code",
   "execution_count": 83,
   "metadata": {},
   "outputs": [],
   "source": [
    "parking = parking.get_attribute('innerText')"
   ]
  },
  {
   "cell_type": "code",
   "execution_count": 85,
   "metadata": {},
   "outputs": [
    {
     "data": {
      "text/plain": [
       "'3만 원'"
      ]
     },
     "execution_count": 85,
     "metadata": {},
     "output_type": "execute_result"
    }
   ],
   "source": [
    "parking"
   ]
  },
  {
   "cell_type": "code",
   "execution_count": null,
   "metadata": {},
   "outputs": [],
   "source": []
  }
 ],
 "metadata": {
  "kernelspec": {
   "display_name": "Python 3",
   "language": "python",
   "name": "python3"
  },
  "language_info": {
   "codemirror_mode": {
    "name": "ipython",
    "version": 3
   },
   "file_extension": ".py",
   "mimetype": "text/x-python",
   "name": "python",
   "nbconvert_exporter": "python",
   "pygments_lexer": "ipython3",
   "version": "3.7.4"
  }
 },
 "nbformat": 4,
 "nbformat_minor": 4
}
