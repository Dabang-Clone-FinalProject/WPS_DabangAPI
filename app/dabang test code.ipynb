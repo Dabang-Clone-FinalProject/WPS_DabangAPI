{
 "cells": [
  {
   "cell_type": "code",
   "execution_count": 1,
   "metadata": {},
   "outputs": [],
   "source": [
    "import os\n",
    "import re\n",
    "import time\n",
    "import urllib\n",
    "import requests\n",
    "from django.core.files import File\n",
    "from selenium import webdriver\n",
    "from selenium.common.exceptions import NoSuchElementException, UnexpectedAlertPresentException\n",
    "import json"
   ]
  },
  {
   "cell_type": "code",
   "execution_count": 2,
   "metadata": {},
   "outputs": [],
   "source": [
    "driver = webdriver.Chrome('/Users/mac/projects/ChromeWebDriver/chromedriver')"
   ]
  },
  {
   "cell_type": "code",
   "execution_count": 3,
   "metadata": {},
   "outputs": [],
   "source": [
    "아파트 = []\n",
    "오피스텔 = []\n"
   ]
  },
  {
   "cell_type": "code",
   "execution_count": 4,
   "metadata": {},
   "outputs": [],
   "source": [
    "driver.get('https://www.dabangapp.com/room/5e992d31d9d3a15c88491696')"
   ]
  },
  {
   "cell_type": "code",
   "execution_count": 5,
   "metadata": {},
   "outputs": [],
   "source": [
    "post_type = driver.find_element_by_xpath('/html/body/div[1]/div/div[1]/div/ul/li[1]/p/span')\n",
    "post_type = post_type.get_attribute('innerText')\n",
    "\n",
    "# 방 정보 설명\n",
    "description = driver.find_elements_by_xpath(\"/html/body/div[1]/div/div[4]/div/div\")\n",
    "description = description[0].get_attribute(\"innerText\")\n",
    "description.replace(\"\\n\", \"\")\n",
    "\n",
    "# 매물 형식\n",
    "unrefined_salesform = driver.find_elements_by_xpath('/html/body/div[1]/div/div[1]/div/ul/li[1]/div')\n",
    "salesForm = unrefined_salesform[0].get_attribute(\"innerText\")\n",
    "salesForm = salesForm.replace('/', ' ')\n",
    "salesForm = salesForm.replace('\\n', '')\n",
    "salesForm = salesForm.split()\n",
    "salesType = salesForm[0]  # sales type\n"
   ]
  },
  {
   "cell_type": "code",
   "execution_count": 6,
   "metadata": {},
   "outputs": [
    {
     "name": "stdout",
     "output_type": "stream",
     "text": [
      "아파트 월세\n"
     ]
    }
   ],
   "source": [
    "print(post_type, salesType)"
   ]
  },
  {
   "cell_type": "code",
   "execution_count": null,
   "metadata": {},
   "outputs": [],
   "source": []
  }
 ],
 "metadata": {
  "kernelspec": {
   "display_name": "Python 3",
   "language": "python",
   "name": "python3"
  },
  "language_info": {
   "codemirror_mode": {
    "name": "ipython",
    "version": 3
   },
   "file_extension": ".py",
   "mimetype": "text/x-python",
   "name": "python",
   "nbconvert_exporter": "python",
   "pygments_lexer": "ipython3",
   "version": "3.7.4"
  }
 },
 "nbformat": 4,
 "nbformat_minor": 4
}
