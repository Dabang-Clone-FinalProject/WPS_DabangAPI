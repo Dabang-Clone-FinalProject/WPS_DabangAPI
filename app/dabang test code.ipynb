{
 "cells": [
  {
   "cell_type": "code",
   "execution_count": 84,
   "metadata": {},
   "outputs": [],
   "source": [
    "from selenium import webdriver\n",
    "import time\n",
    "from selenium.common.exceptions import NoSuchElementException\n",
    "from multiprocessing import Pool"
   ]
  },
  {
   "cell_type": "code",
   "execution_count": 85,
   "metadata": {},
   "outputs": [],
   "source": [
    "from selenium import webdriver\n",
    "\n",
    "driver = webdriver.Chrome('/Users/mac/projects/ChromeWebDriver/chromedriver')\n"
   ]
  },
  {
   "cell_type": "code",
   "execution_count": 90,
   "metadata": {},
   "outputs": [],
   "source": [
    "pool = Pool(processes=3)"
   ]
  },
  {
   "cell_type": "code",
   "execution_count": 91,
   "metadata": {},
   "outputs": [],
   "source": [
    "url_all_list = [\n",
    "    'https://www.dabangapp.com/room/5e42b371a11d530866144078',\n",
    " 'https://www.dabangapp.com/room/5e1d6b0773d078168238f1e0',\n",
    " 'https://www.dabangapp.com/room/5e1548a8de8c7b54c2c917dc',\n",
    " 'https://www.dabangapp.com/room/5e914f0dc38c0c4ce5a8318c',\n",
    " 'https://www.dabangapp.com/room/5e8d35bd0cf5a5412d6da2ea',\n",
    " 'https://www.dabangapp.com/room/5e914cb3cc41dc1f46a7b6c3',\n",
    " 'https://www.dabangapp.com/room/5e79c60d84be5e7ef8e96461',\n",
    " 'https://www.dabangapp.com/room/5e914f0455e11d4ce5fbd245',\n",
    " 'https://www.dabangapp.com/room/5e8e7cf99d891c3904c57951',\n",
    " 'https://www.dabangapp.com/room/5e6c6cced93974472c59c6b8',\n",
    " 'https://www.dabangapp.com/room/5e8aa7fcffe08e36cb56b4ce',\n",
    " 'https://www.dabangapp.com/room/5e746c5855cade1ff3b2c900',\n",
    " 'https://www.dabangapp.com/room/5e72c8819888397a3638a424',\n",
    " 'https://www.dabangapp.com/room/5e8c62242dca726fb8181a93',\n",
    " 'https://www.dabangapp.com/room/5e7bfd7b290cb26ec37087b2',\n",
    " 'https://www.dabangapp.com/room/5e8d248ea8c2115d1680b1ce',\n",
    " 'https://www.dabangapp.com/room/5e819e0e2ce1b126d9c88027',\n",
    " 'https://www.dabangapp.com/room/5e7ad2422247205b43406c05',\n",
    " 'https://www.dabangapp.com/room/5e8ae5dd2a140b19ad1152a0',\n",
    " 'https://www.dabangapp.com/room/5e9166c6243bed3a047b44c7',\n",
    " 'https://www.dabangapp.com/room/5e7ad24a5809285b43dd6156',\n",
    " 'https://www.dabangapp.com/room/5e783d0a32767735792361c6',\n",
    " 'https://www.dabangapp.com/room/5e8acea9ce4f3e4ec40793d4',\n",
    " 'https://www.dabangapp.com/room/5e7c13ee116bff1a5c1b0fe5',\n",
    " 'https://www.dabangapp.com/room/5e7ecdf238420950529b2564',\n",
    " 'https://www.dabangapp.com/room/5e9172a37c5daf1246d1e0b8',\n",
    " 'https://www.dabangapp.com/room/5e7c7166244673686b638419',\n",
    " 'https://www.dabangapp.com/room/5e6b164652c2753d337b4179',\n",
    " 'https://www.dabangapp.com/room/5e8aa4778e97eb10a32212da',\n",
    " 'https://www.dabangapp.com/room/5e7c36033dc51b7e45ba7b1f',\n",
    " 'https://www.dabangapp.com/room/5e8ea6167f954b7088471d4c',\n",
    " 'https://www.dabangapp.com/room/5e7c52fea861501550e7e8a3',\n",
    " 'https://www.dabangapp.com/room/5e90026d91315870a836a8b2',\n",
    " 'https://www.dabangapp.com/room/5e72ec87fdf308458942257f',\n",
    " 'https://www.dabangapp.com/room/5e7307f8017a955b71279100',\n",
    " 'https://www.dabangapp.com/room/5e7ac6c2cbf0df08eb1d61ff',\n",
    " 'https://www.dabangapp.com/room/5e71ab6ddeb6c10f9e935e0a',\n",
    " 'https://www.dabangapp.com/room/5e7efa460358215304f057de',\n",
    " 'https://www.dabangapp.com/room/5e756335964ed823fc81e0f8',\n",
    " 'https://www.dabangapp.com/room/5e7c2481a50ed345f63c82d2',\n",
    " 'https://www.dabangapp.com/room/5e7ec95111e1011a7ec7e203',\n",
    " 'https://www.dabangapp.com/room/5e81a1b829cfcc06f34d07af',\n",
    " 'https://www.dabangapp.com/room/5e8eab2db72bfe784f349eb9',\n",
    " 'https://www.dabangapp.com/room/5e72e2cf83e008062fb55d61',\n",
    " 'https://www.dabangapp.com/room/5e868a4369367f4ba04cbd9a',\n",
    " 'https://www.dabangapp.com/room/5e819d03b701a426d98a42ea',\n",
    " 'https://www.dabangapp.com/room/5e914f0ba6d8364ce5f7703e',\n",
    " 'https://www.dabangapp.com/room/5e72ea274f0cc61c30fd8f36',\n",
    " 'https://www.dabangapp.com/room/5e71de843a4ea4174fa94faa',\n",
    " 'https://www.dabangapp.com/room/5e916938513ff8418a568eed',\n",
    " 'https://www.dabangapp.com/room/5e8d3248d7b3d87429517725',\n",
    " 'https://www.dabangapp.com/room/5e8ac8522eccde46164a92d3',\n",
    " 'https://www.dabangapp.com/room/5e7acbcb77c7d1101fafdd2f',\n",
    " 'https://www.dabangapp.com/room/5e6f1211e8174c468ae971a6',\n",
    " 'https://www.dabangapp.com/room/5e7ae6cdfccb516fda9bd67a',\n",
    " 'https://www.dabangapp.com/room/5e6f0a419f0dec7f7c305a0f',\n",
    " 'https://www.dabangapp.com/room/5e72c4a3811444445417df08',\n",
    " 'https://www.dabangapp.com/room/5e83f3eaee50375db934125d',\n",
    " 'https://www.dabangapp.com/room/5e8d636cdc19e6397ec46d1e',\n",
    " 'https://www.dabangapp.com/room/5e8ac3f8d5f8af65d9d3516d',\n",
    " 'https://www.dabangapp.com/room/5e81beab3da96b3251ddf7eb',\n",
    " 'https://www.dabangapp.com/room/5e8fed22182fb750ac3ed90c',\n",
    " 'https://www.dabangapp.com/room/5e81aed624e07a1c823c3867',\n",
    " 'https://www.dabangapp.com/room/5e9161db119d0812848e85f6',\n",
    " 'https://www.dabangapp.com/room/5e8a9c86b3222941bb9d625c',\n",
    " 'https://www.dabangapp.com/room/5e7c7162b2dfed686b7f24ed',\n",
    " 'https://www.dabangapp.com/room/5e7afd8e99ef8a59f3a5afd9',\n",
    " 'https://www.dabangapp.com/room/5e7c715f773e22686b15ee5c',\n",
    " 'https://www.dabangapp.com/room/5e8aaa98521b226396ccdbbf',\n",
    " 'https://www.dabangapp.com/room/5e9001ff37e57c46f8c99f48',\n",
    " 'https://www.dabangapp.com/room/5e8be7742fa6cd03e13c708b',\n",
    " 'https://www.dabangapp.com/room/5e9006e3bf780d2cb29e8d0f',\n",
    " 'https://www.dabangapp.com/room/5e8293bb31c88476954f7213',\n",
    " 'https://www.dabangapp.com/room/5e8bddbea4736e4e7859a818',\n",
    " 'https://www.dabangapp.com/room/5e914f1527b8e84ce5955ba0',\n",
    " 'https://www.dabangapp.com/room/5e9151a6dfdeb4412ec75483',\n",
    " 'https://www.dabangapp.com/room/5e919ebcf6898d237c673810',\n",
    " 'https://www.dabangapp.com/room/5e916e0e2398e0656787dea5',\n",
    " 'https://www.dabangapp.com/room/5e7ae6101b845266b335b028',\n",
    " 'https://www.dabangapp.com/room/5e8ab2a116fdf52419a4663e',\n",
    " 'https://www.dabangapp.com/room/5e82935402a1f77695464902',\n",
    " 'https://www.dabangapp.com/room/5e91707f35f33d6d89aed70a',\n",
    " 'https://www.dabangapp.com/room/5e8ae5d9ff822c19ad4d0911',\n",
    " 'https://www.dabangapp.com/room/5e8d213f2e87de0bdd660b28',\n",
    " 'https://www.dabangapp.com/room/5e7c1d58c603891137e21986',\n",
    " 'https://www.dabangapp.com/room/5e8bdd0323820f30a80c8b75',\n",
    " 'https://www.dabangapp.com/room/5e8d689d895f204256bc67c5',\n",
    " 'https://www.dabangapp.com/room/5e8e7a0bb2d08c242d00ef0e',\n",
    " 'https://www.dabangapp.com/room/5e6f433852da4f5e153acde8',\n",
    " 'https://www.dabangapp.com/room/5e71aec6af6ef63ffd56a238',\n",
    " 'https://www.dabangapp.com/room/5e71ab25234ea90f9e3684a6',\n",
    " 'https://www.dabangapp.com/room/5e857bc1b4e0795b8a572512',\n",
    " 'https://www.dabangapp.com/room/5e8ec761980d512302d88076',\n",
    " 'https://www.dabangapp.com/room/5e8812ec29ec2d636a1d92ca',\n",
    " 'https://www.dabangapp.com/room/5e6f0f71bcde1c6b698fdc41',\n",
    " 'https://www.dabangapp.com/room/5e84665fdec4512c8b64192a',\n",
    " 'https://www.dabangapp.com/room/5e914cb88bd3631f46a09e81',\n",
    " 'https://www.dabangapp.com/room/5e6f0ca8c990b036c43197c1',\n",
    " 'https://www.dabangapp.com/room/5e70ab27caeda435adaadb1f',\n",
    " 'https://www.dabangapp.com/room/5e71a7797741213bb1749b0d',\n",
    " 'https://www.dabangapp.com/room/5e75868ff87c48462892dcd0',\n",
    " 'https://www.dabangapp.com/room/5e9151a226ca77412e85f0b4',\n",
    " 'https://www.dabangapp.com/room/5e9001d9004a6b46f8e283bc',\n",
    " 'https://www.dabangapp.com/room/5e8812e4b1d930636a6d8e56',\n",
    " 'https://www.dabangapp.com/room/5e8d77eec22836604787ccb7',\n",
    " 'https://www.dabangapp.com/room/5e8ac6d37f0d924616315449',\n",
    " 'https://www.dabangapp.com/room/5e916e46b360f06567cedb09',\n",
    " 'https://www.dabangapp.com/room/5e71de3ebd9532174f661894',\n",
    " 'https://www.dabangapp.com/room/5e7b21cb77efb279fa89895b',\n",
    " 'https://www.dabangapp.com/room/5e7c1ff47c26285ff0f5b216',\n",
    " 'https://www.dabangapp.com/room/5e901025f3ff9d77d2ee73f7',\n",
    " 'https://www.dabangapp.com/room/5e8bd952c5710167918ef972',\n",
    " 'https://www.dabangapp.com/room/5e7c30a8febb732852667dc1',\n",
    " 'https://www.dabangapp.com/room/5e8fe7146ee1804a3f82a6c4',\n",
    " 'https://www.dabangapp.com/room/5e70733be64ca9665e5a9759',\n",
    " 'https://www.dabangapp.com/room/5e8e87131a056b7de982d60c',\n",
    " 'https://www.dabangapp.com/room/5e8ab2d3e5b96224197411d8',\n",
    " 'https://www.dabangapp.com/room/5e6f33247c85125a56950333',\n",
    " 'https://www.dabangapp.com/room/5e9168ebfd958b418a717e6a',\n",
    " 'https://www.dabangapp.com/room/5e818950279b951d62cb4760',\n",
    " 'https://www.dabangapp.com/room/5e71959aa3f116628a7b5917',\n",
    " 'https://www.dabangapp.com/room/5e7026c96db9eb6cbda862e9',\n",
    " 'https://www.dabangapp.com/room/5e917082011fd86d896240c1',\n",
    " 'https://www.dabangapp.com/room/5e6f0bf4aa08bd36c473df19',\n",
    " 'https://www.dabangapp.com/room/5e7c1d79e58bcf11370fb44e',\n",
    " 'https://www.dabangapp.com/room/5e8c2e7efbefce1fe5167abd',\n",
    " 'https://www.dabangapp.com/room/5e819de582c86726d99a8ee5',\n",
    " 'https://www.dabangapp.com/room/5e7c323bccafa13d5abd89ba',\n",
    " 'https://www.dabangapp.com/room/5e8ead5550fe9507241a4fb6',\n",
    " 'https://www.dabangapp.com/room/5e8ff5dc57abf65d42b86d86',\n",
    " 'https://www.dabangapp.com/room/5e8ab40e3d0b3003b99b42f7',\n",
    " 'https://www.dabangapp.com/room/5e900e32810cf44966ac6385',\n",
    " 'https://www.dabangapp.com/room/5e6ae2e92f0a64540a1f6be7',\n",
    " 'https://www.dabangapp.com/room/5e7431f250356c4b2e118c0c',\n",
    " 'https://www.dabangapp.com/room/5e85790803871a2aa7b0afdb',\n",
    " 'https://www.dabangapp.com/room/5e900e1e00708f49663fd402',\n",
    " 'https://www.dabangapp.com/room/5e8edff144048f63141f001c',\n",
    " 'https://www.dabangapp.com/room/5e9146a83fb2521b2c49ecee',\n",
    " 'https://www.dabangapp.com/room/5e6b431f9dbf8b2583721312',\n",
    " 'https://www.dabangapp.com/room/5e86f4b7e302b11c09fae313',\n",
    " 'https://www.dabangapp.com/room/5e7ae14bc6b15433d28cf62f',\n",
    " 'https://www.dabangapp.com/room/5e86a3c6c3bafd57a1dd6a77',\n",
    " 'https://www.dabangapp.com/room/5e8e8645245cf677356da8aa',\n",
    " 'https://www.dabangapp.com/room/5e7068cae8747815b23d81e4',\n",
    " 'https://www.dabangapp.com/room/5e8ae5ed851dda19ad8b717d',\n",
    " 'https://www.dabangapp.com/room/5e8154e74cd9607c21f9d10c',\n",
    " 'https://www.dabangapp.com/room/5e8aac2b54de271a14e4c32e',\n",
    " 'https://www.dabangapp.com/room/5e856698c18a88387dfe7d10',\n",
    " 'https://www.dabangapp.com/room/5e814fd64039fb0ab049a6d8',\n",
    " 'https://www.dabangapp.com/room/5e8d6e4dd2170c747784db4e',\n",
    " 'https://www.dabangapp.com/room/5e8a945fee38c71dd70b0cb0',\n",
    " 'https://www.dabangapp.com/room/5e82b23608fecc73e61f4d63',\n",
    " 'https://www.dabangapp.com/room/5e7d6469c88b2e4d3edf63ab',\n",
    " 'https://www.dabangapp.com/room/5e7ed445b9ca165a0abe5c37',\n",
    " 'https://www.dabangapp.com/room/5e81884c1e326a0478fe722b',\n",
    " 'https://www.dabangapp.com/room/5e7c0280a77db85208d4fc64',\n",
    " 'https://www.dabangapp.com/room/5e82d5bb15e93834534e5f52',\n",
    " 'https://www.dabangapp.com/room/5e7c3a23c85f5376a60e8fc9',\n",
    " 'https://www.dabangapp.com/room/5e8c1f6ef9ae1d50cbdf754b',\n",
    " 'https://www.dabangapp.com/room/5e82b22081a85e73e67a5dda',\n",
    " 'https://www.dabangapp.com/room/5e7ac451a96dd2389c19493c',\n",
    " 'https://www.dabangapp.com/room/5e8812e58751ff636a485f05',\n",
    " 'https://www.dabangapp.com/room/5e8550aabea97b7a22578734',\n",
    " 'https://www.dabangapp.com/room/5e8830b78321b32902cade76',\n",
    " 'https://www.dabangapp.com/room/5e81610280554a6b432242ca',\n",
    " 'https://www.dabangapp.com/room/5e8e76abab03dd31e56dcb71',\n",
    " 'https://www.dabangapp.com/room/5e7d692a742312505a5190d4',\n",
    " 'https://www.dabangapp.com/room/5e79ac00e7b2ac67af850dcf',\n",
    " 'https://www.dabangapp.com/room/5e61eb268c45fb4368c1a174',\n",
    " 'https://www.dabangapp.com/room/5dea1592bfd6ae3b8ca406ce',\n",
    " 'https://www.dabangapp.com/room/5e6f0321aeeb591276221de3',\n",
    " 'https://www.dabangapp.com/room/5e8c3d4a27ee572fb48cf07d',\n",
    " 'https://www.dabangapp.com/room/5e9034ed4ef6ae3420ccbfb7',\n",
    " 'https://www.dabangapp.com/room/5e81a2cd918a981d67c29e72',\n",
    " 'https://www.dabangapp.com/room/5e82f884d770ee57c7f381cf',\n",
    " 'https://www.dabangapp.com/room/5d64b386c2523c16a42f3d07',\n",
    " 'https://www.dabangapp.com/room/5e71d3578c6d8b3b99af9f05',\n",
    " 'https://www.dabangapp.com/room/5e1e71f971ee814758fbcdc3',\n",
    " 'https://www.dabangapp.com/room/5df1eb02d5887d7930797275',\n",
    " 'https://www.dabangapp.com/room/5d9c54de54340c1c977f92d8',\n",
    " 'https://www.dabangapp.com/room/5e4a2310faa1647355958b95',\n",
    " 'https://www.dabangapp.com/room/5e4a1c16cc7257682001c153',\n",
    " 'https://www.dabangapp.com/room/579704dc6f1b3a094aec5f57',\n",
    " 'https://www.dabangapp.com/room/5e71af111d650303159f0348',\n",
    " 'https://www.dabangapp.com/room/5e4a2ece3982731d6e5b52d7',\n",
    " 'https://www.dabangapp.com/room/5e58feb4bab02104722d161f',\n",
    " 'https://www.dabangapp.com/room/5e4643a33e033020a5e53f8d',\n",
    " 'https://www.dabangapp.com/room/5df1ea294eac3d7bfabcba03',\n",
    " 'https://www.dabangapp.com/room/5e72fa154944a63dbd73fe69',\n",
    " 'https://www.dabangapp.com/room/5e60b25b0cf47a0ed2719309',\n",
    " 'https://www.dabangapp.com/room/5e72c6b3f4b5b86fe3c8f385',\n",
    " 'https://www.dabangapp.com/room/5e33edce22c6252a97b9a7d0',\n",
    " 'https://www.dabangapp.com/room/5e7047cb6896ee286b243867',\n",
    " 'https://www.dabangapp.com/room/5e86edc1914a1d1d7ef51ac2',\n",
    " 'https://www.dabangapp.com/room/5e84034e55c6882f23bd690e',\n",
    " 'https://www.dabangapp.com/room/5e843dc1031dc142631601df',\n",
    " 'https://www.dabangapp.com/room/5b0e2eea5ed74c7355786247',\n",
    " 'https://www.dabangapp.com/room/5e3befe9e242632ffa06bc85',\n",
    " 'https://www.dabangapp.com/room/5e72be16b85b0e6fc9a7a7cc',\n",
    " 'https://www.dabangapp.com/room/5e8f01b3cec5d415e90d4cf6',\n",
    " 'https://www.dabangapp.com/room/5e82ffe2f112a16b1126ca5e',\n",
    " 'https://www.dabangapp.com/room/5e572e5757f09c5638273c20',\n",
    " 'https://www.dabangapp.com/room/5d9ec99fc9a3dd4b29e3efcd',\n",
    " 'https://www.dabangapp.com/room/5d8ee7ac7fa17e2f2267239a',\n",
    " 'https://www.dabangapp.com/room/5e843a4d99a00c17e3bc85c4',\n",
    " 'https://www.dabangapp.com/room/5813063a2e6f462359315117',\n",
    " 'https://www.dabangapp.com/room/5e8591a5880dfc22b9e0970f',\n",
    " 'https://www.dabangapp.com/room/5dd4f8a12bda4e34e57d0447',\n",
    " 'https://www.dabangapp.com/room/5e6759cdb979bc71e9afeab2',\n",
    " 'https://www.dabangapp.com/room/5e0f3718d96bea310291e09a',\n",
    " 'https://www.dabangapp.com/room/5e33bb027bfab713de85a774',\n",
    " 'https://www.dabangapp.com/room/5e72bf479c854870aa02c352',\n",
    " 'https://www.dabangapp.com/room/5e6b586d27e43b013e9ba597',\n",
    " 'https://www.dabangapp.com/room/5e3845a2d7447c3fabc904e3',\n",
    " 'https://www.dabangapp.com/room/5dede10eeea3c95b23de6927',\n",
    " 'https://www.dabangapp.com/room/5e86a6ebd985b83a8fa2a24e',\n",
    " 'https://www.dabangapp.com/room/5e9193985526841afcfe4133',\n",
    " 'https://www.dabangapp.com/room/5e4b99581a00fb457ff0ef63',\n",
    " 'https://www.dabangapp.com/room/5e816497deec6b3194f63705',\n",
    " 'https://www.dabangapp.com/room/5e9192b1afa34c2320474d61',\n",
    " 'https://www.dabangapp.com/room/5cbea76d71e887479063ac59',\n",
    " 'https://www.dabangapp.com/room/5e8ace5e7702c43897f858ac',\n",
    " 'https://www.dabangapp.com/room/5d652a2654311c3fa94d6ee2',\n",
    " 'https://www.dabangapp.com/room/5d9af15512468a5ee4605669',\n",
    " 'https://www.dabangapp.com/room/5e8ea363d86a754325dcc5ae',\n",
    " 'https://www.dabangapp.com/room/5e91566b0f96861e75b1b60f',\n",
    " 'https://www.dabangapp.com/room/5e2f8a15fd3dc349995a75d7',\n",
    " 'https://www.dabangapp.com/room/5d1aaaf7f8675e2ee22fd097',\n",
    " 'https://www.dabangapp.com/room/5ddd53a496557639e70c825e',\n",
    " 'https://www.dabangapp.com/room/5e4cc48194bb1c050fceb147',\n",
    " 'https://www.dabangapp.com/room/5d89b7deb3be6628c11e79d4',\n",
    " 'https://www.dabangapp.com/room/5da19747bf668c3e1d36d1af',\n",
    " 'https://www.dabangapp.com/room/5e4ceabfac08d4432ca2e889',\n",
    " 'https://www.dabangapp.com/room/5e7997c5619be26de13760d1',\n",
    " 'https://www.dabangapp.com/room/5e8581abf11589776af13eac',\n",
    " 'https://www.dabangapp.com/room/5e19204fd1e8ba59c8b5d7f4',\n",
    " 'https://www.dabangapp.com/room/5df9e1954c971122317f86f2',\n",
    " 'https://www.dabangapp.com/room/5e7c52a336e37e1fa669f93e',\n",
    " 'https://www.dabangapp.com/room/5e8c077fc6addb21400412cb',\n",
    " 'https://www.dabangapp.com/room/5e4a1a9866bcc56a163dc945',\n",
    " 'https://www.dabangapp.com/room/5db78bcdeaa0e9359de71c0f',\n",
    " 'https://www.dabangapp.com/room/5e5f7d649d2d5f4a00a465af',\n",
    " 'https://www.dabangapp.com/room/5e3cfc049d81167ed198e975',\n",
    " 'https://www.dabangapp.com/room/5e60b894ea6fdf19bd4dd16b',\n",
    " 'https://www.dabangapp.com/room/581ae8a8f7f1fe26fd7d65f0',\n",
    " 'https://www.dabangapp.com/room/5b442f6802c75b70610826a9',\n",
    " 'https://www.dabangapp.com/room/5d652a2654311c3fa94d6ee2',\n",
    " 'https://www.dabangapp.com/room/5d9af15512468a5ee4605669',\n",
    " 'https://www.dabangapp.com/room/5e8ea363d86a754325dcc5ae',\n",
    " 'https://www.dabangapp.com/room/5e91566b0f96861e75b1b60f',\n",
    " 'https://www.dabangapp.com/room/5e2f8a15fd3dc349995a75d7',\n",
    " 'https://www.dabangapp.com/room/5d1aaaf7f8675e2ee22fd097',\n",
    " 'https://www.dabangapp.com/room/5ddd53a496557639e70c825e',\n",
    " 'https://www.dabangapp.com/room/5e4cc48194bb1c050fceb147',\n",
    " 'https://www.dabangapp.com/room/5d89b7deb3be6628c11e79d4',\n",
    " 'https://www.dabangapp.com/room/5da19747bf668c3e1d36d1af',\n",
    " 'https://www.dabangapp.com/room/5e4ceabfac08d4432ca2e889',\n",
    " 'https://www.dabangapp.com/room/5e7997c5619be26de13760d1',\n",
    " 'https://www.dabangapp.com/room/5e8581abf11589776af13eac',\n",
    " 'https://www.dabangapp.com/room/5e19204fd1e8ba59c8b5d7f4',\n",
    " 'https://www.dabangapp.com/room/5df9e1954c971122317f86f2',\n",
    " 'https://www.dabangapp.com/room/5e7c52a336e37e1fa669f93e',\n",
    " 'https://www.dabangapp.com/room/5e8c077fc6addb21400412cb',\n",
    " 'https://www.dabangapp.com/room/5e4a1a9866bcc56a163dc945',\n",
    " 'https://www.dabangapp.com/room/5db78bcdeaa0e9359de71c0f',\n",
    " 'https://www.dabangapp.com/room/5e5f7d649d2d5f4a00a465af',\n",
    " 'https://www.dabangapp.com/room/5e3cfc049d81167ed198e975',\n",
    " 'https://www.dabangapp.com/room/5e60b894ea6fdf19bd4dd16b',\n",
    " 'https://www.dabangapp.com/room/581ae8a8f7f1fe26fd7d65f0',\n",
    " 'https://www.dabangapp.com/room/5b442f6802c75b70610826a9',\n",
    " 'https://www.dabangapp.com/room/5e577d972d69ed5194f1eefa',\n",
    " 'https://www.dabangapp.com/room/5e268a6db427ae304ec68e3f',\n",
    " 'https://www.dabangapp.com/room/582fb3c519e7cb55ecce2534',\n",
    " 'https://www.dabangapp.com/room/5e659c74f2a3ac415c367599',\n",
    " 'https://www.dabangapp.com/room/5e6343c4869f5c579367bd0c',\n",
    " 'https://www.dabangapp.com/room/5e84996da1218276a29e79cc',\n",
    " 'https://www.dabangapp.com/room/5e83fbfaa2b0597ae67aaf10',\n",
    " 'https://www.dabangapp.com/room/5e89aadd49dee06a434e251e',\n",
    " 'https://www.dabangapp.com/room/5e47792095a5332028d312b8',\n",
    " 'https://www.dabangapp.com/room/5e8d36c5643ef26fe5d7a23a',\n",
    " 'https://www.dabangapp.com/room/5df9d39d26a54f7ee4cd126d',\n",
    " 'https://www.dabangapp.com/room/5c0e5ccffc1a300f6fbeedaa',\n",
    " 'https://www.dabangapp.com/room/5e477835ee4ea021e01ba0af',\n",
    " 'https://www.dabangapp.com/room/5e8bed42a6a79a728f5ac21d',\n",
    " 'https://www.dabangapp.com/room/5df05b64849a606d56f017e9',\n",
    " 'https://www.dabangapp.com/room/5e3bdb7635fc9778dae9d35a',\n",
    " 'https://www.dabangapp.com/room/5e843414848c0b61944e50c5',\n",
    " 'https://www.dabangapp.com/room/5d07c75b3742fe7603630b43',\n",
    " 'https://www.dabangapp.com/room/5e7c21ceab438338a1b79479',\n",
    " 'https://www.dabangapp.com/room/5c5d8557e98ed333425a3cb4',\n",
    " 'https://www.dabangapp.com/room/59f3e67dc6cda31e4c4f8b33',\n",
    " 'https://www.dabangapp.com/room/5e69d334d3ac974a856143f1'\n",
    "]"
   ]
  },
  {
   "cell_type": "code",
   "execution_count": 94,
   "metadata": {},
   "outputs": [
    {
     "ename": "TypeError",
     "evalue": "map() got an unexpected keyword argument 'target'",
     "output_type": "error",
     "traceback": [
      "\u001b[0;31m---------------------------------------------------------------------------\u001b[0m",
      "\u001b[0;31mTypeError\u001b[0m                                 Traceback (most recent call last)",
      "\u001b[0;32m<ipython-input-94-0596ad143278>\u001b[0m in \u001b[0;36m<module>\u001b[0;34m\u001b[0m\n\u001b[1;32m      1\u001b[0m \u001b[0;32mfor\u001b[0m \u001b[0murl\u001b[0m \u001b[0;32min\u001b[0m \u001b[0murl_all_list\u001b[0m\u001b[0;34m:\u001b[0m\u001b[0;34m\u001b[0m\u001b[0;34m\u001b[0m\u001b[0m\n\u001b[0;32m----> 2\u001b[0;31m     \u001b[0mpool\u001b[0m\u001b[0;34m.\u001b[0m\u001b[0mmap\u001b[0m\u001b[0;34m(\u001b[0m\u001b[0mtarget\u001b[0m\u001b[0;34m=\u001b[0m\u001b[0mdriver\u001b[0m\u001b[0;34m.\u001b[0m\u001b[0mget\u001b[0m\u001b[0;34m(\u001b[0m\u001b[0murl\u001b[0m\u001b[0;34m)\u001b[0m\u001b[0;34m,\u001b[0m \u001b[0margs\u001b[0m\u001b[0;34m=\u001b[0m\u001b[0;34m(\u001b[0m\u001b[0murl\u001b[0m\u001b[0;34m,\u001b[0m\u001b[0;34m)\u001b[0m\u001b[0;34m)\u001b[0m\u001b[0;34m\u001b[0m\u001b[0;34m\u001b[0m\u001b[0m\n\u001b[0m",
      "\u001b[0;31mTypeError\u001b[0m: map() got an unexpected keyword argument 'target'"
     ]
    }
   ],
   "source": [
    "for url in url_all_list:\n",
    "    pool.map(target=driver.get(url), args=(url,))"
   ]
  },
  {
   "cell_type": "code",
   "execution_count": null,
   "metadata": {},
   "outputs": [],
   "source": []
  },
  {
   "cell_type": "code",
   "execution_count": null,
   "metadata": {},
   "outputs": [],
   "source": []
  },
  {
   "cell_type": "code",
   "execution_count": null,
   "metadata": {},
   "outputs": [],
   "source": []
  },
  {
   "cell_type": "code",
   "execution_count": null,
   "metadata": {},
   "outputs": [],
   "source": []
  },
  {
   "cell_type": "code",
   "execution_count": null,
   "metadata": {},
   "outputs": [],
   "source": []
  },
  {
   "cell_type": "code",
   "execution_count": 71,
   "metadata": {},
   "outputs": [],
   "source": [
    "div_list = driver.find_elements_by_xpath('/html/body/div[1]/div/div[3]/div/div[2]/div')\n"
   ]
  },
  {
   "cell_type": "code",
   "execution_count": null,
   "metadata": {},
   "outputs": [],
   "source": []
  },
  {
   "cell_type": "code",
   "execution_count": null,
   "metadata": {},
   "outputs": [],
   "source": []
  },
  {
   "cell_type": "code",
   "execution_count": 72,
   "metadata": {},
   "outputs": [
    {
     "data": {
      "text/plain": [
       "[<selenium.webdriver.remote.webelement.WebElement (session=\"f232b798a82c9704b36e0912a7a47ea0\", element=\"0.01420678826351085-1\")>,\n",
       " <selenium.webdriver.remote.webelement.WebElement (session=\"f232b798a82c9704b36e0912a7a47ea0\", element=\"0.01420678826351085-2\")>,\n",
       " <selenium.webdriver.remote.webelement.WebElement (session=\"f232b798a82c9704b36e0912a7a47ea0\", element=\"0.01420678826351085-3\")>,\n",
       " <selenium.webdriver.remote.webelement.WebElement (session=\"f232b798a82c9704b36e0912a7a47ea0\", element=\"0.01420678826351085-4\")>,\n",
       " <selenium.webdriver.remote.webelement.WebElement (session=\"f232b798a82c9704b36e0912a7a47ea0\", element=\"0.01420678826351085-5\")>]"
      ]
     },
     "execution_count": 72,
     "metadata": {},
     "output_type": "execute_result"
    }
   ],
   "source": [
    "div_list"
   ]
  },
  {
   "cell_type": "code",
   "execution_count": 73,
   "metadata": {
    "scrolled": true
   },
   "outputs": [
    {
     "name": "stdout",
     "output_type": "stream",
     "text": [
      "['옵션\\n\\n신발장\\n\\n가스레인지\\n\\n전자도어락\\n\\n', '\\n\\n비디오폰\\n\\n공동현관\\n\\n경비원']\n",
      "option >> ['옵션', '신발장', '가스레인지', '전자도어락', '']\n",
      "result option ['신발장', '가스레인지', '전자도어락']\n",
      "result security ['비디오폰', '공동현관']\n"
     ]
    }
   ],
   "source": [
    "try:\n",
    "    option_tag = driver.find_element_by_name('option')\n",
    "    option_tag = option_tag.get_attribute('innerText')\n",
    "    option_tag = option_tag.split('보안/안전시설')\n",
    "    print(option_tag)\n",
    "    option = option_tag[0]\n",
    "    option = option.split('\\n\\n')\n",
    "    print('option >>', option)\n",
    "    del option[0]\n",
    "    del option[-1]\n",
    "\n",
    "    print('result option', option)\n",
    "\n",
    "    security = option_tag[1]\n",
    "    security = security.split('\\n\\n')\n",
    "    del security[-1]\n",
    "    del security[0]\n",
    "    print('result security', security)\n",
    "except IndexError:\n",
    "    print('안전 시설 없음.')\n",
    "    security = None\n",
    "except NoSuchElementException:\n",
    "    print('옵션, 안전시설 없음', url)\n",
    "    option = None\n",
    "    security = None"
   ]
  },
  {
   "cell_type": "markdown",
   "metadata": {},
   "source": [
    "# 옵션 및 안전시설 이미지."
   ]
  },
  {
   "cell_type": "code",
   "execution_count": 74,
   "metadata": {},
   "outputs": [],
   "source": [
    "div_list = driver.find_elements_by_xpath('/html/body/div[1]/div/div[5]/div[4]/div/div/div/div')"
   ]
  },
  {
   "cell_type": "code",
   "execution_count": null,
   "metadata": {},
   "outputs": [],
   "source": [
    "image_list = []\n",
    "\n",
    "for i, url in enumerate(div_list):\n",
    "    cls_name = url.get_attribute('class')\n",
    "    cls_name = cls_name.split(' ')\n",
    "    cls_name = cls_name[1]\n",
    "    photo = driver.execute_script(\n",
    "        f'return window.getComputedStyle(document.querySelector(\".{cls_name}\"),\":after\").getPropertyValue(\"background\")')\n",
    "\n",
    "    test_url = re.findall(r'\"(.*?)\"', photo)\n",
    "\n",
    "    # 이미지 파일이 아닌 url를 뺀 새로운 url list\n",
    "    if test_url:\n",
    "        if 'dabang' in test_url[0]:\n",
    "            pass\n",
    "        else:\n",
    "            image_list.append(test_url[0])\n",
    "    else:\n",
    "        print('빈 리스트')\n"
   ]
  },
  {
   "cell_type": "code",
   "execution_count": null,
   "metadata": {},
   "outputs": [],
   "source": []
  },
  {
   "cell_type": "code",
   "execution_count": 21,
   "metadata": {},
   "outputs": [],
   "source": [
    "post_type = driver.find_element_by_xpath('/html/body/div[1]/div/div[1]/div/ul/li[1]/p/span')\n",
    "post_type = post_type.get_attribute('innerText')"
   ]
  },
  {
   "cell_type": "code",
   "execution_count": 22,
   "metadata": {},
   "outputs": [
    {
     "name": "stdout",
     "output_type": "stream",
     "text": [
      "description 설명 : 강남진입 5분, 성수동 연예인 아파트, 귀한전세 나왔네요\n",
      "🔶 다른 광고매물들에 비해 금액이 비싸보일 수 있습니다. 조금도 조정 하지 않은 그대로의 실매물이기 때문입니다. 🔶\n",
      "\n",
      "🔶 더 이상 허위매물에 속지 마시고 바로 전화주세요 🔶\n",
      "\n",
      "🔶 실매물 전문중개인. 실사진, 실광고 🔶\n",
      "\n",
      "🔶 참된 중개사라면, 찾아보기 전에 이미 매물을 알고 있어야 한다고 생각합니다. 🔶\n",
      "\n",
      "--------------------------------------------------------------------------\n",
      "🔶 밤 12시에도 상담가능. 새벽에도 상담 가능 합니다 🔶\n",
      "\n",
      "🔶 더 이상 허위매물에 속지 마시고 바로 전화주세요 🔶\n",
      "\n",
      "🔶 금액 조정을 원하시면 집주인과 싸워서라도 조정해 드리겠습니다. 🔶\n",
      "\n",
      "🔶 언제나 저에게 연락온 모든 손님께는 한분 한분 좋은 집을 구해드리기 위해 노력하는 성지희 팀장입니다. 🔶\n",
      "\n",
      "🔶 한분 한분 성심성의 것 제가 살집 구하듯이 꼼꼼하게 체크해 드리겠습니다. 🔶\n",
      "\n",
      "🔶 구경하신다는 마음으로 편하게 오셔도 괜찮습니다. 원하시는 방을 찾을 때 까지 함께 해드리겠습니다. 🔶\n",
      "\n",
      "🔶 다른 광고를 더보면서 고민하실 시간에 저한테 전화를 걸어주세요. 후회하지 않게 해드릴 자신 있습니다. 🔶\n",
      "\n",
      "🔶 돈 많은 임대인이 아닌, 손님들 편에 서서 손님들에게 유리한 조건으로 방 구하실 수 있게 만들겠습니다. 🔶\n",
      "\n",
      "\n",
      " ☎ 전화, 문자 주세요!\n",
      " ☎ 카카오톡 ID : jihjir\n",
      " ☎ 0ㅣ0-8592-0053 성지희팀장\n",
      "\n",
      "  (상담 시 매물번호를 알려주시면 빠른 상담이 가능합니다) \n",
      "접기\n",
      "[<selenium.webdriver.remote.webelement.WebElement (session=\"424eab47e75659340a6a9c04d6256f7a\", element=\"0.5337703677541652-4\")>]\n",
      "address Load 도로명주소 : 서울시 성동구 성수동2가 840\n"
     ]
    }
   ],
   "source": [
    "#  상세 설명보기\n",
    "try:\n",
    "    button = driver.find_element_by_xpath(\"/html/body/div[1]/div/div[4]/div/div/button\")\n",
    "    driver.execute_script(\"arguments[0].click();\", button)\n",
    "except NoSuchElementException:\n",
    "    pass\n",
    "\n",
    "\n",
    "unrefined_description = driver.find_elements_by_xpath(\"/html/body/div[1]/div/div[4]/div/div\")\n",
    "description = unrefined_description[0].get_attribute(\"innerText\")\n",
    "description.replace(\"\\n\", \"\")\n",
    "print('description 설명 :', description)\n",
    "\n",
    "if post_type ==\"아파트\":\n",
    "    unrefined_address = driver.find_elements_by_xpath('/html/body/div[1]/div/div[5]/div[5]/div/p')\n",
    "else:\n",
    "    unrefined_address = driver.find_elements_by_xpath('/html/body/div[1]/div/div[5]/div[4]/div/p')\n",
    "\n",
    "print(unrefined_address) \n",
    "addressLoad = unrefined_address[0].get_attribute(\"innerText\")\n",
    "print('address Load 도로명주소 :', addressLoad)\n"
   ]
  },
  {
   "cell_type": "code",
   "execution_count": 23,
   "metadata": {},
   "outputs": [
    {
     "name": "stdout",
     "output_type": "stream",
     "text": [
      "salesType: 매물 종류는>> 전세\n",
      "salesDepositChar:  5억\n",
      "salesdepositInt:  500000000\n",
      "salesmonthlyChar:  9000만원\n",
      "salesmonthlyInt:  90000000\n"
     ]
    }
   ],
   "source": [
    "\n",
    "unrefined_salesform = driver.find_elements_by_xpath('/html/body/div[1]/div/div[1]/div/ul/li[1]/div')\n",
    "\n",
    "salesForm = unrefined_salesform[0].get_attribute(\"innerText\")\n",
    "salesForm = salesForm.replace('/', ' ')\n",
    "salesForm = salesForm.replace('\\n', '')\n",
    "salesForm = salesForm.split()\n",
    "salesType = salesForm[0]  # sales type\n",
    "print('salesType: 매물 종류는>>', salesType)\n",
    "salesDepositChar = salesForm[1]\n",
    "if salesDepositChar.find('원'):\n",
    "    salesDepositChar = salesDepositChar.replace('원', '')\n",
    "    print('salesDepositChar: ', salesDepositChar)\n",
    "salesdepositInt = salesDepositChar.replace('억', '00000000')\n",
    "salesdepositInt = int(salesdepositInt)\n",
    "print('salesdepositInt: ', salesdepositInt)\n",
    "\n",
    "try:\n",
    "    salesmonthlyChar = salesForm[2]\n",
    "    print('salesmonthlyChar: ', salesmonthlyChar)\n",
    "    salesmonthlyInt = salesmonthlyChar.replace('만원', '0000')\n",
    "    salesmonthlyInt = int(salesmonthlyInt)\n",
    "    print('salesmonthlyInt: ', salesmonthlyInt)\n",
    "    if salesType == '전세':\n",
    "        salesdepositInt = salesdepositInt + salesmonthlyInt\n",
    "        salesDepositChar = salesDepositChar + salesmonthlyChar\n",
    "except IndexError:\n",
    "    salesmonthlyInt = 0\n",
    "    salesmonthlyChar = ''"
   ]
  },
  {
   "cell_type": "code",
   "execution_count": 24,
   "metadata": {},
   "outputs": [],
   "source": [
    "post_type = driver.find_element_by_xpath('/html/body/div[1]/div/div[1]/div/ul/li[1]/p/span')\n",
    "post_type = post_type.get_attribute('innerText')"
   ]
  },
  {
   "cell_type": "code",
   "execution_count": 25,
   "metadata": {},
   "outputs": [
    {
     "name": "stdout",
     "output_type": "stream",
     "text": [
      "floor>> 8층 \n",
      "totalFloor >>  13층\n"
     ]
    }
   ],
   "source": [
    "unrefined_floor = driver.find_elements_by_xpath('/html/body/div[1]/div/div[2]/div/ul/li[1]/div')\n",
    "total_floor = unrefined_floor[0].get_attribute('innerText')\n",
    "total_floor = total_floor.split('/')\n",
    "floor = total_floor[0]\n",
    "floor = floor\n",
    "print('floor>>', floor)\n",
    "totalFloor = total_floor[1]\n",
    "totalFloor = totalFloor.replace(' ', '')\n",
    "totalFloor = totalFloor\n",
    "print('totalFloor >> ', totalFloor)"
   ]
  },
  {
   "cell_type": "code",
   "execution_count": 26,
   "metadata": {},
   "outputs": [
    {
     "name": "stdout",
     "output_type": "stream",
     "text": [
      "area >> 84.95 / 113.5㎡\n",
      "areaChar >>  84.95 / 113.5㎡\n"
     ]
    }
   ],
   "source": [
    "unrefined_area = driver.find_elements_by_xpath('/html/body/div[1]/div/div[2]/div/ul/li[2]/div/span')\n",
    "area = unrefined_area[0].get_attribute('innerText')\n",
    "print('area >>', area)\n",
    "areaChar = area\n",
    "print('areaChar >> ', areaChar)"
   ]
  },
  {
   "cell_type": "code",
   "execution_count": 27,
   "metadata": {},
   "outputs": [],
   "source": [
    "driver.find_element_by_xpath('/html/body/div[1]/div/div[2]/div/ul/li[2]/div/button').click()"
   ]
  },
  {
   "cell_type": "code",
   "execution_count": 28,
   "metadata": {},
   "outputs": [
    {
     "name": "stdout",
     "output_type": "stream",
     "text": [
      "supplyAreaChar >>  26 / 34평\n",
      "supplyAreaInt >>  34\n"
     ]
    }
   ],
   "source": [
    "unrefined_area = driver.find_elements_by_xpath('/html/body/div[1]/div/div[2]/div/ul/li[2]/div/span')\n",
    "supplyAreaChar = unrefined_area[0].get_attribute('innerText')\n",
    "print('supplyAreaChar >> ', supplyAreaChar)\n",
    "supplyAreaInt = supplyAreaChar.split('/')\n",
    "supplyAreaInt = supplyAreaInt[1].replace('평', '')\n",
    "\n",
    "supplyAreaInt = supplyAreaInt.strip()\n",
    "\n",
    "supplyAreaInt = int(supplyAreaInt)\n",
    "print('supplyAreaInt >> ', supplyAreaInt)"
   ]
  },
  {
   "cell_type": "code",
   "execution_count": 29,
   "metadata": {},
   "outputs": [],
   "source": [
    "try:\n",
    "    if post_type=='아파트':\n",
    "        unrefined_shortRent = driver.find_elements_by_xpath(\n",
    "            '/html/body/div[1]/div/div[5]/div[3]/div/table/tbody/tr/td[5]/p')\n",
    "    else:\n",
    "        unrefined_shortRent = driver.find_elements_by_xpath(\n",
    "            '/html/body/div[1]/div/div[5]/div[2]/div/table/tbody/tr/td[5]/p')\n",
    "    shortRent = unrefined_shortRent[0].get_attribute('innerText')\n",
    "    shortRent = shortRent\n",
    "\n",
    "    if shortRent == '불가능':\n",
    "        shortRent = False\n",
    "    else:\n",
    "        shortRent = True\n",
    "        \n",
    "except IndexError:\n",
    "    print('매매 url 값 이상하게 들어갈걸?: ', url)\n",
    "    "
   ]
  },
  {
   "cell_type": "code",
   "execution_count": 30,
   "metadata": {},
   "outputs": [
    {
     "data": {
      "text/plain": [
       "False"
      ]
     },
     "execution_count": 30,
     "metadata": {},
     "output_type": "execute_result"
    }
   ],
   "source": [
    "shortRent"
   ]
  },
  {
   "cell_type": "code",
   "execution_count": 56,
   "metadata": {},
   "outputs": [],
   "source": [
    "try:\n",
    "    if post_type==\"아파트\":\n",
    "        unrefined_management = driver.find_elements_by_xpath('/html/body/div[1]/div/div[5]/div[2]/div/table/tbody/tr/td[3]')\n",
    "    else:\n",
    "        if salesType == \"매매\":\n",
    "            unrefined_management = driver.find_elements_by_xpath('/html/body/div[1]/div/div[5]/div[2]/div/table/tbody/tr/td[2]/p')\n",
    "        else:\n",
    "            unrefined_management = driver.find_elements_by_xpath('/html/body/div[1]/div/div[5]/div[2]/div/table/tbody/tr/td[3]')\n",
    "    unrefined_management = unrefined_management[0].get_attribute('innerText')\n",
    "    unrefined_management = unrefined_management.replace('\\n', '')\n",
    "    unrefined_management = unrefined_management.replace(' ', '')\n",
    "    unrefined_management = unrefined_management.replace('(', ' ')\n",
    "    unrefined_management = unrefined_management.replace(')', ' ')\n",
    "    unrefined_management = unrefined_management.replace(',', ' ')\n",
    "    unrefined_management = unrefined_management.split(' ')\n",
    "except IndexError:\n",
    "    unrefined_management = driver.find_elements_by_xpath(\n",
    "        '/html/body/div[1]/div/div[5]/div[3]/div/table/tbody/tr/td[3]'\n",
    "\n",
    "    )\n",
    "    unrefined_management = unrefined_management[0].get_attribute('innerText')\n",
    "    unrefined_management = unrefined_management.replace('\\n', '')\n",
    "    unrefined_management = unrefined_management.replace(' ', '')\n",
    "    unrefined_management = unrefined_management.replace('(', ' ')\n",
    "    unrefined_management = unrefined_management.replace(')', ' ')\n",
    "    unrefined_management = unrefined_management.replace(',', ' ')\n",
    "    unrefined_management = unrefined_management.split(' ')"
   ]
  },
  {
   "cell_type": "code",
   "execution_count": 57,
   "metadata": {},
   "outputs": [
    {
     "data": {
      "text/plain": [
       "['없음']"
      ]
     },
     "execution_count": 57,
     "metadata": {},
     "output_type": "execute_result"
    }
   ],
   "source": [
    "unrefined_management"
   ]
  },
  {
   "cell_type": "code",
   "execution_count": 32,
   "metadata": {},
   "outputs": [
    {
     "name": "stdout",
     "output_type": "stream",
     "text": [
      "unrefined_management >> ['없음']\n"
     ]
    }
   ],
   "source": [
    "print('unrefined_management >>', unrefined_management)"
   ]
  },
  {
   "cell_type": "code",
   "execution_count": 59,
   "metadata": {},
   "outputs": [],
   "source": [
    "try:\n",
    "    unrefined_living_expenses = driver.find_elements_by_xpath(\n",
    "        '/html/body/div[1]/div/div[5]/div[2]/div/div/div/label'\n",
    "    )\n",
    "    unrefined_living_expenses_detail = driver.find_elements_by_xpath(\n",
    "        '/html/body/div[1]/div/div[5]/div[2]/div/div/div/span')\n",
    "except NoSuchElementException:\n",
    "    pass\n",
    "\n",
    "try:\n",
    "    unrefined_living_expenses = unrefined_living_expenses[0].get_attribute('innerText')\n",
    "    living_expenses = unrefined_living_expenses.replace(' ', '')\n",
    "    living_expenses_detail = unrefined_living_expenses_detail[0].get_attribute('innerText')\n",
    "except IndexError:\n",
    "    unrefined_living_expenses = driver.find_elements_by_xpath(\n",
    "        '/html/body/div[1]/div/div[5]/div[3]/div/div/div/label'\n",
    "    )\n",
    "    unrefined_living_expenses_detail = driver.find_elements_by_xpath(\n",
    "        '/html/body/div[1]/div/div[5]/div[3]/div/div/div/span')\n",
    "    unrefined_living_expenses = unrefined_living_expenses[0].get_attribute('innerText')\n",
    "    living_expenses = unrefined_living_expenses.replace(' ', '')\n",
    "    living_expenses_detail = unrefined_living_expenses_detail[0].get_attribute('innerText')"
   ]
  },
  {
   "cell_type": "code",
   "execution_count": 60,
   "metadata": {},
   "outputs": [
    {
     "name": "stdout",
     "output_type": "stream",
     "text": [
      "living_expenses >>  0만원+α\n",
      "living_expenses_detail >>  (주차비)\n"
     ]
    }
   ],
   "source": [
    "print('living_expenses >> ', living_expenses)\n",
    "print('living_expenses_detail >> ', living_expenses_detail)"
   ]
  },
  {
   "cell_type": "code",
   "execution_count": null,
   "metadata": {},
   "outputs": [],
   "source": [
    "unrefined_parking = driver.find_elements_by_xpath(\n",
    "    \"/html/body/div[1]/div/div[5]/div[2]/div/table/tbody/tr/td[4]/p\"\n",
    ")\n",
    "\n",
    "try:\n",
    "    parkingDetail = unrefined_parking[0].get_attribute('innerText')\n",
    "except IndexError:\n",
    "    unrefined_parking = driver.find_elements_by_xpath(\n",
    "        '/html/body/div[1]/div/div[5]/div[3]/div/table/tbody/tr/td[4]/p'\n",
    "    )\n",
    "    parkingDetail = unrefined_parking[0].get_attribute('innerText')"
   ]
  },
  {
   "cell_type": "code",
   "execution_count": 63,
   "metadata": {},
   "outputs": [
    {
     "name": "stdout",
     "output_type": "stream",
     "text": [
      "parkingDetail >> 가능(무료)\n"
     ]
    }
   ],
   "source": [
    "print('parkingDetail >>', parkingDetail)"
   ]
  },
  {
   "cell_type": "code",
   "execution_count": 64,
   "metadata": {},
   "outputs": [
    {
     "name": "stdout",
     "output_type": "stream",
     "text": [
      "parkingTF >> True\n"
     ]
    }
   ],
   "source": [
    "if parkingDetail == '불가':\n",
    "    parkingTF = False\n",
    "else:\n",
    "    parkingTF = True\n",
    "print('parkingTF >>', parkingTF)"
   ]
  },
  {
   "cell_type": "code",
   "execution_count": 65,
   "metadata": {},
   "outputs": [],
   "source": [
    "# 아파트 입주 가능 날짜, 매매에서는 상관 없음. \n",
    "try:\n",
    "    unrefined_moveIn = driver.find_elements_by_xpath('/html/body/div[1]/div/div[2]/div/ul/li[9]/div')\n",
    "    MoveInChar = unrefined_moveIn[0].get_attribute('innerText')\n",
    "except NoSuchElementException:\n",
    "    MoveInChar = None"
   ]
  },
  {
   "cell_type": "code",
   "execution_count": 66,
   "metadata": {},
   "outputs": [
    {
     "name": "stdout",
     "output_type": "stream",
     "text": [
      "heatingType>> 개별난방\n"
     ]
    }
   ],
   "source": [
    "unrefined_heatingType = driver.find_elements_by_xpath('/html/body/div[1]/div/div[2]/div/ul/li[3]/div')\n",
    "heatingType = unrefined_heatingType[0].get_attribute('innerText')\n",
    "print('heatingType>>', heatingType)"
   ]
  },
  {
   "cell_type": "code",
   "execution_count": 67,
   "metadata": {},
   "outputs": [
    {
     "name": "stdout",
     "output_type": "stream",
     "text": [
      "가능\n",
      "pet >> True\n"
     ]
    }
   ],
   "source": [
    "if post_type =='아파트':\n",
    "    unrefined_pet = driver.find_elements_by_xpath('/html/body/div[1]/div/div[2]/div/ul/li[7]/div')\n",
    "else:\n",
    "    unrefined_pet = driver.find_elements_by_xpath('/html/body/div[1]/div/div[2]/div/ul/li[6]/div')\n",
    "pet = unrefined_pet[0].get_attribute('innerText')\n",
    "print(pet)\n",
    "if pet == \"불가능\":\n",
    "    pet = False\n",
    "else:\n",
    "    pet = True\n",
    "print('pet >>', pet)"
   ]
  },
  {
   "cell_type": "code",
   "execution_count": 73,
   "metadata": {},
   "outputs": [
    {
     "name": "stdout",
     "output_type": "stream",
     "text": [
      "None\n",
      "elevator >>  True\n"
     ]
    },
    {
     "data": {
      "text/plain": [
       "'114세대'"
      ]
     },
     "execution_count": 73,
     "metadata": {},
     "output_type": "execute_result"
    }
   ],
   "source": [
    "if post_type =='아파트':\n",
    "    totalCitizen = driver.find_element_by_xpath('/html/body/div[1]/div/div[2]/div/ul/li[5]/div')\n",
    "    totalCitizen = totalCitizen.get_attribute('innerText')\n",
    "    elevator = None\n",
    "else:\n",
    "    elevator = driver.find_elements_by_xpath('/html/body/div[1]/div/div[2]/div/ul/li[5]/div')\n",
    "    elevator = elevator[0].get_attribute('innerText')\n",
    "\n",
    "print(elevator)\n",
    "if elevator == \"없음\":\n",
    "    elevator = False\n",
    "else:\n",
    "    elevator = True\n",
    "print('elevator >> ', elevator)\n",
    "totalCitizen"
   ]
  },
  {
   "cell_type": "code",
   "execution_count": 74,
   "metadata": {},
   "outputs": [],
   "source": [
    "if post_type =='아파트':\n",
    "    parkingAccumulation = driver.find_element_by_xpath('/html/body/div[1]/div/div[2]/div/ul/li[6]/div')\n",
    "    parkingAccumulation = parkingAccumulation.get_attribute('innerText')\n",
    "else:\n",
    "    if salesType == '매매':\n",
    "        unrefined_veranda = driver.find_element_by_xpath('/html/body/div[1]/div/div[2]/div/ul/li[6]/div')\n",
    "\n",
    "        veranda = unrefined_veranda.get_attribute('innerText')\n",
    "    else:\n",
    "        pet = driver.find_element_by_xpath('/html/body/div[1]/div/div[2]/div/ul/li[6]/div')\n",
    "        pet = pet.get_atttribute('innerText')"
   ]
  },
  {
   "cell_type": "code",
   "execution_count": 75,
   "metadata": {},
   "outputs": [
    {
     "data": {
      "text/plain": [
       "'1.3대'"
      ]
     },
     "execution_count": 75,
     "metadata": {},
     "output_type": "execute_result"
    }
   ],
   "source": [
    "parkingAccumulation"
   ]
  },
  {
   "cell_type": "code",
   "execution_count": 76,
   "metadata": {},
   "outputs": [
    {
     "name": "stdout",
     "output_type": "stream",
     "text": [
      "아파트\n",
      "2009.02 준공\n"
     ]
    }
   ],
   "source": [
    "print(post_type)\n",
    "if post_type =='아파트':\n",
    "    complete = driver.find_element_by_xpath('/html/body/div[1]/div/div[2]/div/ul/li[4]/div')\n",
    "    complete = complete.get_attribute('innerText')\n",
    "    builtIn = None\n",
    "else:\n",
    "    unrefined_builtIn = driver.find_elements_by_xpath('/html/body/div[1]/div/div[2]/div/ul/li[4]/div')\n",
    "    builtIn =unrefined_builtIn[0].get_attribute('innerText')\n",
    "print(complete)\n",
    "if builtIn == \"아님\":\n",
    "    builtIn = False\n",
    "else:\n",
    "    builtIn = True\n"
   ]
  },
  {
   "cell_type": "code",
   "execution_count": 77,
   "metadata": {},
   "outputs": [
    {
     "name": "stdout",
     "output_type": "stream",
     "text": [
      "가능\n"
     ]
    }
   ],
   "source": [
    "try:\n",
    "    depositLoan = driver.find_element_by_xpath('/html/body/div[1]/div/div[2]/div/ul/li[8]/div')\n",
    "    depositLoan = depositLoan.get_attribute('innerText')\n",
    "except NoSuchElementException:\n",
    "    depositLoan = False\n",
    "print(depositLoan)"
   ]
  },
  {
   "cell_type": "code",
   "execution_count": 78,
   "metadata": {},
   "outputs": [],
   "source": [
    "unrefined_veranda = driver.find_elements_by_xpath('/html/body/div[1]/div/div[2]/div/ul/li[7]/div')\n",
    "veranda = unrefined_veranda[0].get_attribute('innerText')\n",
    "if veranda == \"없음\":\n",
    "    veranda = False\n",
    "else:\n",
    "    veranda = True\n",
    "veranda = veranda"
   ]
  },
  {
   "cell_type": "code",
   "execution_count": 79,
   "metadata": {},
   "outputs": [
    {
     "name": "stdout",
     "output_type": "stream",
     "text": [
      "True\n"
     ]
    }
   ],
   "source": [
    "print(veranda)"
   ]
  },
  {
   "cell_type": "code",
   "execution_count": 80,
   "metadata": {},
   "outputs": [
    {
     "name": "stdout",
     "output_type": "stream",
     "text": [
      "True\n"
     ]
    }
   ],
   "source": [
    "unrefined_depositLoan = driver.find_elements_by_xpath('/html/body/div[1]/div/div[2]/div/ul/li[8]/div')\n",
    "depositLoan = unrefined_depositLoan[0].get_attribute('innerText')\n",
    "\n",
    "if depositLoan == \"가능\":\n",
    "    depositLoan = True\n",
    "else:\n",
    "    depositLoan = False\n",
    "print(depositLoan)"
   ]
  },
  {
   "cell_type": "code",
   "execution_count": 89,
   "metadata": {},
   "outputs": [
    {
     "name": "stdout",
     "output_type": "stream",
     "text": [
      "[]\n",
      "[]\n"
     ]
    }
   ],
   "source": [
    "### 관리비 MTM 관리비 총액, 상세 내역 생성\n",
    "# 관리비 금액\n",
    "print(unrefined_management)\n",
    "try:\n",
    "    managementPay = unrefined_management.pop(0)\n",
    "    if managementPay.find('만원'):\n",
    "        managementPay = managementPay.replace('만원', ' ')\n",
    "    if managementPay == '없음':\n",
    "        managementPay = 0\n",
    "        managementPay = int(managementPay)\n",
    "    else:\n",
    "        managementPay = 0\n",
    "except IndexError:\n",
    "    pass\n",
    "totalFee = managementPay\n",
    "\n",
    "print(unrefined_management)"
   ]
  },
  {
   "cell_type": "code",
   "execution_count": 93,
   "metadata": {},
   "outputs": [
    {
     "ename": "WebDriverException",
     "evalue": "Message: chrome not reachable\n  (Session info: chrome=80.0.3987.163)\n  (Driver info: chromedriver=2.44.609545 (c2f88692e98ce7233d2df7c724465ecacfe74df5),platform=Mac OS X 10.14.4 x86_64)\n",
     "output_type": "error",
     "traceback": [
      "\u001b[0;31m---------------------------------------------------------------------------\u001b[0m",
      "\u001b[0;31mWebDriverException\u001b[0m                        Traceback (most recent call last)",
      "\u001b[0;32m<ipython-input-93-fb4ffa8e80ee>\u001b[0m in \u001b[0;36m<module>\u001b[0;34m\u001b[0m\n\u001b[1;32m      1\u001b[0m \u001b[0;32mif\u001b[0m \u001b[0mpost_type\u001b[0m \u001b[0;34m==\u001b[0m \u001b[0;34m\"아파트\"\u001b[0m\u001b[0;34m:\u001b[0m\u001b[0;34m\u001b[0m\u001b[0;34m\u001b[0m\u001b[0m\n\u001b[0;32m----> 2\u001b[0;31m     \u001b[0munrefined_securitySafety\u001b[0m \u001b[0;34m=\u001b[0m \u001b[0mdriver\u001b[0m\u001b[0;34m.\u001b[0m\u001b[0mfind_elements_by_xpath\u001b[0m\u001b[0;34m(\u001b[0m\u001b[0;34m'/html/body/div[1]/div/div[5]/div[4]/div[2]/div'\u001b[0m\u001b[0;34m)\u001b[0m\u001b[0;34m\u001b[0m\u001b[0;34m\u001b[0m\u001b[0m\n\u001b[0m",
      "\u001b[0;32m/usr/local/var/pyenv/versions/3.7.4/envs/fc-dabang/lib/python3.7/site-packages/selenium/webdriver/remote/webdriver.py\u001b[0m in \u001b[0;36mfind_elements_by_xpath\u001b[0;34m(self, xpath)\u001b[0m\n\u001b[1;32m    408\u001b[0m             \u001b[0melements\u001b[0m \u001b[0;34m=\u001b[0m \u001b[0mdriver\u001b[0m\u001b[0;34m.\u001b[0m\u001b[0mfind_elements_by_xpath\u001b[0m\u001b[0;34m(\u001b[0m\u001b[0;34m\"//div[contains(@class, 'foo')]\"\u001b[0m\u001b[0;34m)\u001b[0m\u001b[0;34m\u001b[0m\u001b[0;34m\u001b[0m\u001b[0m\n\u001b[1;32m    409\u001b[0m         \"\"\"\n\u001b[0;32m--> 410\u001b[0;31m         \u001b[0;32mreturn\u001b[0m \u001b[0mself\u001b[0m\u001b[0;34m.\u001b[0m\u001b[0mfind_elements\u001b[0m\u001b[0;34m(\u001b[0m\u001b[0mby\u001b[0m\u001b[0;34m=\u001b[0m\u001b[0mBy\u001b[0m\u001b[0;34m.\u001b[0m\u001b[0mXPATH\u001b[0m\u001b[0;34m,\u001b[0m \u001b[0mvalue\u001b[0m\u001b[0;34m=\u001b[0m\u001b[0mxpath\u001b[0m\u001b[0;34m)\u001b[0m\u001b[0;34m\u001b[0m\u001b[0;34m\u001b[0m\u001b[0m\n\u001b[0m\u001b[1;32m    411\u001b[0m \u001b[0;34m\u001b[0m\u001b[0m\n\u001b[1;32m    412\u001b[0m     \u001b[0;32mdef\u001b[0m \u001b[0mfind_element_by_link_text\u001b[0m\u001b[0;34m(\u001b[0m\u001b[0mself\u001b[0m\u001b[0;34m,\u001b[0m \u001b[0mlink_text\u001b[0m\u001b[0;34m)\u001b[0m\u001b[0;34m:\u001b[0m\u001b[0;34m\u001b[0m\u001b[0;34m\u001b[0m\u001b[0m\n",
      "\u001b[0;32m/usr/local/var/pyenv/versions/3.7.4/envs/fc-dabang/lib/python3.7/site-packages/selenium/webdriver/remote/webdriver.py\u001b[0m in \u001b[0;36mfind_elements\u001b[0;34m(self, by, value)\u001b[0m\n\u001b[1;32m   1005\u001b[0m         return self.execute(Command.FIND_ELEMENTS, {\n\u001b[1;32m   1006\u001b[0m             \u001b[0;34m'using'\u001b[0m\u001b[0;34m:\u001b[0m \u001b[0mby\u001b[0m\u001b[0;34m,\u001b[0m\u001b[0;34m\u001b[0m\u001b[0;34m\u001b[0m\u001b[0m\n\u001b[0;32m-> 1007\u001b[0;31m             'value': value})['value'] or []\n\u001b[0m\u001b[1;32m   1008\u001b[0m \u001b[0;34m\u001b[0m\u001b[0m\n\u001b[1;32m   1009\u001b[0m     \u001b[0;34m@\u001b[0m\u001b[0mproperty\u001b[0m\u001b[0;34m\u001b[0m\u001b[0;34m\u001b[0m\u001b[0m\n",
      "\u001b[0;32m/usr/local/var/pyenv/versions/3.7.4/envs/fc-dabang/lib/python3.7/site-packages/selenium/webdriver/remote/webdriver.py\u001b[0m in \u001b[0;36mexecute\u001b[0;34m(self, driver_command, params)\u001b[0m\n\u001b[1;32m    319\u001b[0m         \u001b[0mresponse\u001b[0m \u001b[0;34m=\u001b[0m \u001b[0mself\u001b[0m\u001b[0;34m.\u001b[0m\u001b[0mcommand_executor\u001b[0m\u001b[0;34m.\u001b[0m\u001b[0mexecute\u001b[0m\u001b[0;34m(\u001b[0m\u001b[0mdriver_command\u001b[0m\u001b[0;34m,\u001b[0m \u001b[0mparams\u001b[0m\u001b[0;34m)\u001b[0m\u001b[0;34m\u001b[0m\u001b[0;34m\u001b[0m\u001b[0m\n\u001b[1;32m    320\u001b[0m         \u001b[0;32mif\u001b[0m \u001b[0mresponse\u001b[0m\u001b[0;34m:\u001b[0m\u001b[0;34m\u001b[0m\u001b[0;34m\u001b[0m\u001b[0m\n\u001b[0;32m--> 321\u001b[0;31m             \u001b[0mself\u001b[0m\u001b[0;34m.\u001b[0m\u001b[0merror_handler\u001b[0m\u001b[0;34m.\u001b[0m\u001b[0mcheck_response\u001b[0m\u001b[0;34m(\u001b[0m\u001b[0mresponse\u001b[0m\u001b[0;34m)\u001b[0m\u001b[0;34m\u001b[0m\u001b[0;34m\u001b[0m\u001b[0m\n\u001b[0m\u001b[1;32m    322\u001b[0m             response['value'] = self._unwrap_value(\n\u001b[1;32m    323\u001b[0m                 response.get('value', None))\n",
      "\u001b[0;32m/usr/local/var/pyenv/versions/3.7.4/envs/fc-dabang/lib/python3.7/site-packages/selenium/webdriver/remote/errorhandler.py\u001b[0m in \u001b[0;36mcheck_response\u001b[0;34m(self, response)\u001b[0m\n\u001b[1;32m    240\u001b[0m                 \u001b[0malert_text\u001b[0m \u001b[0;34m=\u001b[0m \u001b[0mvalue\u001b[0m\u001b[0;34m[\u001b[0m\u001b[0;34m'alert'\u001b[0m\u001b[0;34m]\u001b[0m\u001b[0;34m.\u001b[0m\u001b[0mget\u001b[0m\u001b[0;34m(\u001b[0m\u001b[0;34m'text'\u001b[0m\u001b[0;34m)\u001b[0m\u001b[0;34m\u001b[0m\u001b[0;34m\u001b[0m\u001b[0m\n\u001b[1;32m    241\u001b[0m             \u001b[0;32mraise\u001b[0m \u001b[0mexception_class\u001b[0m\u001b[0;34m(\u001b[0m\u001b[0mmessage\u001b[0m\u001b[0;34m,\u001b[0m \u001b[0mscreen\u001b[0m\u001b[0;34m,\u001b[0m \u001b[0mstacktrace\u001b[0m\u001b[0;34m,\u001b[0m \u001b[0malert_text\u001b[0m\u001b[0;34m)\u001b[0m\u001b[0;34m\u001b[0m\u001b[0;34m\u001b[0m\u001b[0m\n\u001b[0;32m--> 242\u001b[0;31m         \u001b[0;32mraise\u001b[0m \u001b[0mexception_class\u001b[0m\u001b[0;34m(\u001b[0m\u001b[0mmessage\u001b[0m\u001b[0;34m,\u001b[0m \u001b[0mscreen\u001b[0m\u001b[0;34m,\u001b[0m \u001b[0mstacktrace\u001b[0m\u001b[0;34m)\u001b[0m\u001b[0;34m\u001b[0m\u001b[0;34m\u001b[0m\u001b[0m\n\u001b[0m\u001b[1;32m    243\u001b[0m \u001b[0;34m\u001b[0m\u001b[0m\n\u001b[1;32m    244\u001b[0m     \u001b[0;32mdef\u001b[0m \u001b[0m_value_or_default\u001b[0m\u001b[0;34m(\u001b[0m\u001b[0mself\u001b[0m\u001b[0;34m,\u001b[0m \u001b[0mobj\u001b[0m\u001b[0;34m,\u001b[0m \u001b[0mkey\u001b[0m\u001b[0;34m,\u001b[0m \u001b[0mdefault\u001b[0m\u001b[0;34m)\u001b[0m\u001b[0;34m:\u001b[0m\u001b[0;34m\u001b[0m\u001b[0;34m\u001b[0m\u001b[0m\n",
      "\u001b[0;31mWebDriverException\u001b[0m: Message: chrome not reachable\n  (Session info: chrome=80.0.3987.163)\n  (Driver info: chromedriver=2.44.609545 (c2f88692e98ce7233d2df7c724465ecacfe74df5),platform=Mac OS X 10.14.4 x86_64)\n"
     ]
    }
   ],
   "source": [
    "if post_type == \"아파트\":\n",
    "    unrefined_securitySafety = driver.find_elements_by_xpath('/html/body/div[1]/div/div[5]/div[4]/div[2]/div')"
   ]
  },
  {
   "cell_type": "code",
   "execution_count": 82,
   "metadata": {},
   "outputs": [
    {
     "ename": "NameError",
     "evalue": "name 'OptionItem' is not defined",
     "output_type": "error",
     "traceback": [
      "\u001b[0;31m---------------------------------------------------------------------------\u001b[0m",
      "\u001b[0;31mNameError\u001b[0m                                 Traceback (most recent call last)",
      "\u001b[0;32m<ipython-input-82-6f95da7d27b0>\u001b[0m in \u001b[0;36m<module>\u001b[0;34m\u001b[0m\n\u001b[1;32m     44\u001b[0m \u001b[0moption_list\u001b[0m \u001b[0;34m=\u001b[0m \u001b[0;34m[\u001b[0m\u001b[0;34m]\u001b[0m\u001b[0;34m\u001b[0m\u001b[0;34m\u001b[0m\u001b[0m\n\u001b[1;32m     45\u001b[0m \u001b[0;32mfor\u001b[0m \u001b[0mobj\u001b[0m \u001b[0;32min\u001b[0m \u001b[0moption\u001b[0m\u001b[0;34m:\u001b[0m\u001b[0;34m\u001b[0m\u001b[0;34m\u001b[0m\u001b[0m\n\u001b[0;32m---> 46\u001b[0;31m     instance = OptionItem.objects.get_or_create(\n\u001b[0m\u001b[1;32m     47\u001b[0m         \u001b[0mname\u001b[0m\u001b[0;34m=\u001b[0m\u001b[0mobj\u001b[0m\u001b[0;34m,\u001b[0m\u001b[0;34m\u001b[0m\u001b[0;34m\u001b[0m\u001b[0m\n\u001b[1;32m     48\u001b[0m     )\n",
      "\u001b[0;31mNameError\u001b[0m: name 'OptionItem' is not defined"
     ]
    }
   ],
   "source": [
    "# 관리비 디테일\n",
    "admin_list = [item for item in unrefined_management if not item == '']\n",
    "admin_instances = []\n",
    "for ins in admin_list:\n",
    "    obj = AdministrativeDetail.objects.get_or_create(name=ins)\n",
    "    admin_instances.append(obj)\n",
    "\n",
    "# 안전 시설 인스턴스 생성 MTM\n",
    "try:\n",
    "    unrefined_securitySafety = driver.find_elements_by_xpath(\n",
    "        '/html/body/div[1]/div/div[5]/div[3]/div[2]/div')\n",
    "    security = unrefined_securitySafety[0].get_attribute('innerText')\n",
    "    security = security.split('\\n\\n')\n",
    "# security MTM\n",
    "except IndexError:\n",
    "    pass\n",
    "# 안전 시설 obj 생성\n",
    "security_list = []\n",
    "try:\n",
    "    for obj in security:\n",
    "        instance = SecuritySafetyFacilities.objects.get_or_create(\n",
    "            name=obj,\n",
    "        )\n",
    "        security_list.append(instance[0])\n",
    "except UnboundLocalError:\n",
    "    pass\n",
    "except NameError:\n",
    "    pass\n",
    "\n",
    "# option은 옵션테이블 MTM\n",
    "try:\n",
    "    unrefined_option = driver.find_elements_by_xpath('/html/body/div[1]/div/div[5]/div[3]/div[1]/div')\n",
    "except NoSuchElementException:\n",
    "    pass\n",
    "\n",
    "unrefined_option = unrefined_option[0].get_attribute('innerText')\n",
    "unrefined_option = unrefined_option.split('\\n\\n')\n",
    "option = unrefined_option\n",
    "option_ins_list = []\n",
    "for ins in option:\n",
    "    option_ins_list.append(ins)\n",
    "\n",
    "# 옵션 시설 인스턴스 생성 MTM\n",
    "option_list = []\n",
    "for obj in option:\n",
    "    instance = OptionItem.objects.get_or_create(\n",
    "        name=obj,\n",
    "    )\n",
    "    option_list.append(instance[0])\n",
    "\n",
    "try:\n",
    "    button = driver.find_element_by_xpath(\"/html/body/div[1]/div/div[1]/div/ul/li[4]/button\")\n",
    "    driver.execute_script(\"arguments[0].click();\", button)\n",
    "except NoSuchElementException:\n",
    "    print('중개소 없음.')\n",
    "\n",
    "try:\n",
    "    unrefined_name = driver.find_elements_by_xpath('/html/body/div[4]/div/div/div/div[1]/div[1]/h1')\n",
    "    name = unrefined_name[0].get_attribute('innerText')\n",
    "    unrefined_address = driver.find_elements_by_xpath('/html/body/div[4]/div/div/div/div[1]/div[1]/p')\n",
    "    address = unrefined_address[0].get_attribute('innerText')\n",
    "    unrefined_manager = driver.find_elements_by_xpath('/html/body/div[4]/div/div/div/div[1]/div[2]/p[1]/font')\n",
    "    manager = unrefined_manager[0].get_attribute('innerText')\n",
    "    unrefined_tel = driver.find_elements_by_xpath('/html/body/div[4]/div/div/div/div[1]/div[2]/p[2]/font')\n",
    "    tel = unrefined_tel[0].get_attribute('innerText')\n",
    "except IndexError:\n",
    "    unrefined_name = driver.find_elements_by_xpath('/html/body/div[4]/div/div/div/div/div[2]/p[1]')\n",
    "    name = unrefined_name[0].get_attribute('innerText')\n",
    "    unrefined_address = driver.find_elements_by_xpath('/html/body/div[4]/div/div/div/div/div[2]/p[2]')\n",
    "    address = unrefined_address[0].get_attribute('innerText')"
   ]
  },
  {
   "cell_type": "code",
   "execution_count": null,
   "metadata": {},
   "outputs": [],
   "source": [
    "try:\n",
    "    unrefined_living_expenses = driver.find_elements_by_xpath(\n",
    "        '/html/body/div[1]/div/div[5]/div[2]/div/div/div/label'\n",
    "    )\n",
    "    unrefined_living_expenses_detail = driver.find_elements_by_xpath(\n",
    "        '/html/body/div[1]/div/div[5]/div[2]/div/div/div/span')\n",
    "except NoSuchElementException:\n",
    "    pass\n",
    "\n",
    "try:\n",
    "    unrefined_living_expenses = unrefined_living_expenses[0].get_attribute('innerText')\n",
    "    living_expenses = unrefined_living_expenses.replace(' ', '')\n",
    "    living_expenses_detail = unrefined_living_expenses_detail[0].get_attribute('innerText')\n",
    "except IndexError:\n",
    "    unrefined_living_expenses = driver.find_elements_by_xpath(\n",
    "        '/html/body/div[1]/div/div[5]/div[3]/div/div/div/label'\n",
    "    )\n",
    "    unrefined_living_expenses_detail = driver.find_elements_by_xpath(\n",
    "        '/html/body/div[1]/div/div[5]/div[3]/div/div/div/span')\n",
    "    unrefined_living_expenses = unrefined_living_expenses[0].get_attribute('innerText')\n",
    "    living_expenses = unrefined_living_expenses.replace(' ', '')\n",
    "    living_expenses_detail = unrefined_living_expenses_detail[0].get_attribute('innerText')"
   ]
  }
 ],
 "metadata": {
  "kernelspec": {
   "display_name": "Python 3",
   "language": "python",
   "name": "python3"
  },
  "language_info": {
   "codemirror_mode": {
    "name": "ipython",
    "version": 3
   },
   "file_extension": ".py",
   "mimetype": "text/x-python",
   "name": "python",
   "nbconvert_exporter": "python",
   "pygments_lexer": "ipython3",
   "version": "3.7.4"
  }
 },
 "nbformat": 4,
 "nbformat_minor": 4
}
