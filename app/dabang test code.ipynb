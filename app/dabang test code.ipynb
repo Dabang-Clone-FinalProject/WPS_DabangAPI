{
 "cells": [
  {
   "cell_type": "code",
   "execution_count": 111,
   "metadata": {},
   "outputs": [],
   "source": [
    "import os\n",
    "import re\n",
    "import time\n",
    "import urllib\n",
    "import requests\n",
    "from django.core.files import File\n",
    "from selenium import webdriver\n",
    "from selenium.common.exceptions import NoSuchElementException, UnexpectedAlertPresentException\n",
    "import json"
   ]
  },
  {
   "cell_type": "code",
   "execution_count": 105,
   "metadata": {},
   "outputs": [],
   "source": [
    "driver = webdriver.Chrome('/Users/mac/projects/ChromeWebDriver/chromedriver')"
   ]
  },
  {
   "cell_type": "code",
   "execution_count": 106,
   "metadata": {},
   "outputs": [],
   "source": [
    "driver.get('https://www.dabangapp.com/room/5e992d31d9d3a15c88491696')"
   ]
  },
  {
   "cell_type": "code",
   "execution_count": 107,
   "metadata": {},
   "outputs": [],
   "source": [
    "post_type = driver.find_element_by_xpath('/html/body/div[1]/div/div[1]/div/ul/li[1]/p/span')\n",
    "post_type = post_type.get_attribute('innerText')\n",
    "\n",
    "# 방 정보 설명\n",
    "description = driver.find_elements_by_xpath(\"/html/body/div[1]/div/div[4]/div/div\")\n",
    "description = description[0].get_attribute(\"innerText\")\n",
    "description.replace(\"\\n\", \"\")\n",
    "\n",
    "# 매물 형식\n",
    "unrefined_salesform = driver.find_elements_by_xpath('/html/body/div[1]/div/div[1]/div/ul/li[1]/div')\n",
    "salesForm = unrefined_salesform[0].get_attribute(\"innerText\")\n",
    "salesForm = salesForm.replace('/', ' ')\n",
    "salesForm = salesForm.replace('\\n', '')\n",
    "salesForm = salesForm.split()\n",
    "salesType = salesForm[0]  # sales type\n"
   ]
  },
  {
   "cell_type": "code",
   "execution_count": 108,
   "metadata": {
    "scrolled": true
   },
   "outputs": [
    {
     "data": {
      "text/plain": [
       "'아파트'"
      ]
     },
     "execution_count": 108,
     "metadata": {},
     "output_type": "execute_result"
    }
   ],
   "source": [
    "post_type"
   ]
  },
  {
   "cell_type": "code",
   "execution_count": 109,
   "metadata": {},
   "outputs": [
    {
     "data": {
      "text/plain": [
       "'월세'"
      ]
     },
     "execution_count": 109,
     "metadata": {},
     "output_type": "execute_result"
    }
   ],
   "source": [
    "salesType"
   ]
  },
  {
   "cell_type": "code",
   "execution_count": 110,
   "metadata": {},
   "outputs": [
    {
     "name": "stdout",
     "output_type": "stream",
     "text": [
      "address >>>>>>>>>>>> 서울시 성동구 성수동1가 718\n",
      "address 서울시 성동구 성수동1가 718\n"
     ]
    }
   ],
   "source": [
    "\n",
    "if post_type == \"아파트\":\n",
    "    if salesType == \"매매\":\n",
    "        address = driver.find_elements_by_xpath('/html/body/div[1]/div/div[5]/div[3]/div/p')\n",
    "    else:\n",
    "        address = driver.find_elements_by_xpath('/html/body/div[1]/div/div[5]/div[5]/div/p')\n",
    "else:\n",
    "    address = driver.find_elements_by_xpath('/html/body/div[1]/div/div[5]/div[4]/div/p')\n",
    "if not address:\n",
    "    address = driver.find_elements_by_xpath('/html/body/div[1]/div/div[5]/div/div/p')\n",
    "\n",
    "try:\n",
    "    address = address[0].get_attribute('innerText')\n",
    "    if '※' in address:\n",
    "        address = driver.find_element_by_xpath('/html/body/div[1]/div/div[5]/div[4]/div/p')\n",
    "\n",
    "        address = address.get_attribute('innerText')\n",
    "    print('address >>>>>>>>>>>>', address)\n",
    "except NoSuchElementException:\n",
    "    address = driver.find_element_by_xpath('/html/body/div[1]/div/div[5]/div[5]/div/p')\n",
    "    address = address.get_attribute('innerText')\n",
    "\n",
    "print('address', address)\n"
   ]
  },
  {
   "cell_type": "markdown",
   "metadata": {},
   "source": [
    "# 카카오 로컬"
   ]
  },
  {
   "cell_type": "code",
   "execution_count": 112,
   "metadata": {},
   "outputs": [],
   "source": [
    "url = f'https://dapi.kakao.com/v2/local/search/address.json?query={address}'"
   ]
  },
  {
   "cell_type": "code",
   "execution_count": 113,
   "metadata": {},
   "outputs": [],
   "source": [
    "res = requests.get(url, headers={'Authorization':'KakaoAK c5fe0d7cf28e7714d8f01200f604a03b'})"
   ]
  },
  {
   "cell_type": "code",
   "execution_count": 114,
   "metadata": {},
   "outputs": [
    {
     "data": {
      "text/plain": [
       "{'Server': 'nginx', 'Date': 'Sat, 25 Apr 2020 17:35:56 GMT', 'Content-Type': 'application/json;charset=UTF-8', 'Transfer-Encoding': 'chunked', 'Connection': 'keep-alive', 'Vary': 'Accept-Encoding', 'X-Request-Id': '3867e0a0-871b-11ea-ae56-a3ccf9d6ecc6', 'Content-Encoding': 'gzip', 'Access-Control-Allow-Origin': '*', 'Access-Control-Allow-Methods': 'GET, OPTIONS', 'Access-Control-Allow-Headers': 'Authorization, KA, Origin, X-Requested-With, Content-Type, Accept'}"
      ]
     },
     "execution_count": 114,
     "metadata": {},
     "output_type": "execute_result"
    }
   ],
   "source": [
    "res.headers"
   ]
  },
  {
   "cell_type": "code",
   "execution_count": 115,
   "metadata": {},
   "outputs": [
    {
     "data": {
      "text/plain": [
       "'OK'"
      ]
     },
     "execution_count": 115,
     "metadata": {},
     "output_type": "execute_result"
    }
   ],
   "source": [
    "res.reason"
   ]
  },
  {
   "cell_type": "code",
   "execution_count": 116,
   "metadata": {},
   "outputs": [
    {
     "data": {
      "text/plain": [
       "'https://dapi.kakao.com/v2/local/search/address.json?query=%EC%84%9C%EC%9A%B8%EC%8B%9C%20%EC%84%B1%EB%8F%99%EA%B5%AC%20%EC%84%B1%EC%88%98%EB%8F%991%EA%B0%80%20718'"
      ]
     },
     "execution_count": 116,
     "metadata": {},
     "output_type": "execute_result"
    }
   ],
   "source": [
    "res.url"
   ]
  },
  {
   "cell_type": "code",
   "execution_count": 117,
   "metadata": {},
   "outputs": [
    {
     "data": {
      "text/plain": [
       "'{\"documents\":[{\"address\":{\"address_name\":\"서울 성동구 성수동1가 718\",\"b_code\":\"1120011400\",\"h_code\":\"1120065000\",\"main_adderss_no\":\"\",\"main_address_no\":\"718\",\"mountain_yn\":\"N\",\"region_1depth_name\":\"서울\",\"region_2depth_name\":\"성동구\",\"region_3depth_h_name\":\"성수1가1동\",\"region_3depth_name\":\"성수동1가\",\"sub_adderss_no\":\"\",\"sub_address_no\":\"\",\"x\":\"127.045045893181\",\"y\":\"37.5388239825147\",\"zip_code\":\"\"},\"address_name\":\"서울 성동구 성수동1가 718\",\"address_type\":\"REGION_ADDR\",\"road_address\":{\"address_name\":\"서울 성동구 왕십리로 16\",\"building_name\":\"트리마제\",\"main_building_no\":\"16\",\"region_1depth_name\":\"서울\",\"region_2depth_name\":\"성동구\",\"region_3depth_name\":\"성수동1가\",\"road_name\":\"왕십리로\",\"sub_building_no\":\"\",\"undergroun_yn\":\"\",\"underground_yn\":\"N\",\"x\":\"127.044671518265\",\"y\":\"37.5392578661678\",\"zone_no\":\"04773\"},\"x\":\"127.045045893181\",\"y\":\"37.5388239825147\"}],\"meta\":{\"is_end\":true,\"pageable_count\":1,\"total_count\":1}}\\n'"
      ]
     },
     "execution_count": 117,
     "metadata": {},
     "output_type": "execute_result"
    }
   ],
   "source": [
    "res.text"
   ]
  },
  {
   "cell_type": "code",
   "execution_count": 118,
   "metadata": {},
   "outputs": [],
   "source": [
    "str_data =res.text"
   ]
  },
  {
   "cell_type": "code",
   "execution_count": 119,
   "metadata": {},
   "outputs": [],
   "source": [
    "json_data = json.loads(str_data)"
   ]
  },
  {
   "cell_type": "code",
   "execution_count": 124,
   "metadata": {},
   "outputs": [],
   "source": [
    "lat = json_data['documents'][0]['x']"
   ]
  },
  {
   "cell_type": "code",
   "execution_count": 125,
   "metadata": {
    "scrolled": true
   },
   "outputs": [],
   "source": [
    "lng = json_data['documents'][0]['y']"
   ]
  },
  {
   "cell_type": "code",
   "execution_count": 126,
   "metadata": {},
   "outputs": [
    {
     "data": {
      "text/plain": [
       "'127.045045893181'"
      ]
     },
     "execution_count": 126,
     "metadata": {},
     "output_type": "execute_result"
    }
   ],
   "source": [
    "lat"
   ]
  },
  {
   "cell_type": "code",
   "execution_count": 127,
   "metadata": {},
   "outputs": [
    {
     "data": {
      "text/plain": [
       "'37.5388239825147'"
      ]
     },
     "execution_count": 127,
     "metadata": {},
     "output_type": "execute_result"
    }
   ],
   "source": [
    "lng"
   ]
  },
  {
   "cell_type": "code",
   "execution_count": null,
   "metadata": {},
   "outputs": [],
   "source": []
  }
 ],
 "metadata": {
  "kernelspec": {
   "display_name": "Python 3",
   "language": "python",
   "name": "python3"
  },
  "language_info": {
   "codemirror_mode": {
    "name": "ipython",
    "version": 3
   },
   "file_extension": ".py",
   "mimetype": "text/x-python",
   "name": "python",
   "nbconvert_exporter": "python",
   "pygments_lexer": "ipython3",
   "version": "3.7.4"
  }
 },
 "nbformat": 4,
 "nbformat_minor": 4
}
