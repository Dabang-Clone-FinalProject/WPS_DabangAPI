{
 "cells": [
  {
   "cell_type": "code",
   "execution_count": 1,
   "metadata": {},
   "outputs": [],
   "source": [
    "import time\n",
    "\n",
    "from selenium import webdriver\n",
    "\n",
    "\n",
    "def find_apartment_urls():\n",
    "    driver = webdriver.Chrome('/Users/mac/projects/ChromeWebDriver/chromedriver')\n",
    "    # driver = webdriver.Chrome('/Users/moonpeter/Desktop/Selenium/chromedriver')\n",
    "    driver.get('https://www.dabangapp.com/search#/map')\n",
    "\n",
    "    driver.find_element_by_name('keyword').send_keys('성수동1가')\n",
    "    time.sleep(2)\n",
    "\n",
    "    button = driver.find_element_by_xpath('/html/body/div[1]/div/div[1]/div/div[1]/ul/li[1]/ul/li[1]')\n",
    "    driver.execute_script(\"arguments[0].click();\", button)\n",
    "    time.sleep(2)\n",
    "\n",
    "    button = driver.find_element_by_xpath('/html/body/div[1]/div/div[1]/div/div[2]/div[1]/div')\n",
    "    driver.execute_script(\"arguments[0].click();\", button)\n",
    "    time.sleep(2)\n",
    "\n",
    "    button = driver.find_element_by_xpath(\n",
    "        '/html/body/div[1]/div/div[1]/div/div[2]/div[1]/div[2]/ul[2]/li/label/span[2]')\n",
    "    driver.execute_script(\"arguments[0].click();\", button)\n",
    "    time.sleep(2)\n",
    "\n",
    "    apt_list = []\n",
    "    for i in range(6):\n",
    "        apart_urls = driver.find_elements_by_xpath('/html/body/div[1]/div/div[2]/div[1]/div/div[2]/ul/li/div/a')\n",
    "        for url in apart_urls:\n",
    "            apt_list.append(url.get_attribute('href'))\n",
    "        button = driver.find_element_by_xpath('/html/body/div[1]/div/div[2]/div[1]/div/div[2]/div/div/div/button[2]')\n",
    "        driver.execute_script(\"arguments[0].click();\", button)\n",
    "        time.sleep(2)\n",
    "\n",
    "    # 성수 2동 시작.\n",
    "    driver.find_element_by_name('keyword').send_keys('성수동2가')\n",
    "    time.sleep(2)\n",
    "\n",
    "    button = driver.find_element_by_xpath('/html/body/div[1]/div/div[1]/div/div[1]/ul/li[1]/ul/li[1]')\n",
    "    driver.execute_script(\"arguments[0].click();\", button)\n",
    "    time.sleep(2)\n",
    "\n",
    "    button = driver.find_element_by_xpath('/html/body/div[1]/div/div[1]/div/div[2]/div[1]/div')\n",
    "    driver.execute_script(\"arguments[0].click();\", button)\n",
    "    time.sleep(2)\n",
    "\n",
    "    apart_urls = driver.find_elements_by_xpath('/html/body/div[1]/div/div[2]/div[1]/div/div[2]/ul/li/div/a')\n",
    "\n",
    "    for url in apart_urls:\n",
    "        apt_list.append(url.get_attribute('href'))\n",
    "    button = driver.find_element_by_xpath('/html/body/div[1]/div/div[2]/div[1]/div/div[2]/div/div/div/button[2]')\n",
    "    driver.execute_script(\"arguments[0].click();\", button)\n",
    "    time.sleep(2)\n",
    "\n",
    "    apart_urls = driver.find_elements_by_xpath('/html/body/div[1]/div/div[2]/div[1]/div/div[2]/ul/li/div/a')\n",
    "    for url in apart_urls:\n",
    "        apt_list.append(url.get_attribute('href'))\n",
    "    driver.close()\n",
    "    return apt_list\n",
    "\n",
    "\n",
    "def find_urls():\n",
    "    driver = webdriver.Chrome('/Users/mac/projects/ChromeWebDriver/chromedriver')\n",
    "    # driver = webdriver.Chrome('/Users/moonpeter/Desktop/Selenium/chromedriver')\n",
    "    driver.implicitly_wait(3)\n",
    "    driver.get('https://www.dabangapp.com/search#/map')\n",
    "    driver.find_element_by_name('keyword').send_keys('성수동1가')\n",
    "    driver.find_element_by_xpath('/html/body/div[1]/div/div[1]/div/div[1]/ul/li[1]/ul/li[1]').click()\n",
    "    driver.find_element_by_xpath('/html/body/div[1]/div/div[2]/div[1]/div/div[1]/a[1]').click()\n",
    "\n",
    "    time.sleep(2)\n",
    "    url_all_list = []\n",
    "    for i in range(0, 3):\n",
    "        time.sleep(2)\n",
    "        seongsoo_1dong_detail_list = driver.find_elements_by_xpath(\n",
    "            \"/html/body/div[1]/div/div[2]/div[1]/div/div[2]/ul/li/div/a\")\n",
    "        for data in seongsoo_1dong_detail_list:\n",
    "            url_all_list.append(data.get_attribute('href'))\n",
    "        button = driver.find_element_by_xpath('/html/body/div[1]/div/div[2]/div[1]/div/div[2]/div/div/div/button[2]')\n",
    "        driver.execute_script(\"arguments[0].click();\", button)\n",
    "    print(len(url_all_list))\n",
    "\n",
    "    driver.find_element_by_name('keyword').send_keys('성수동2가')\n",
    "    time.sleep(2)\n",
    "    driver.find_element_by_xpath('/html/body/div[1]/div/div[1]/div/div[1]/ul/li[1]/ul/li[1]').click()\n",
    "    driver.find_element_by_xpath('/html/body/div[1]/div/div[2]/div[1]/div/div[1]/a[1]').click()\n",
    "    time.sleep(2)\n",
    "    seongsoo_2dong_detail_list = driver.find_elements_by_xpath(\n",
    "        \"/html/body/div[1]/div/div[2]/div[1]/div/div[2]/ul[2]/li/div/a\")\n",
    "    for data in seongsoo_2dong_detail_list:\n",
    "        url_all_list.append(data.get_attribute('href'))\n",
    "    for i in range(0, 2):\n",
    "        time.sleep(2)\n",
    "        seongsoo_2dong_detail_list = driver.find_elements_by_xpath(\n",
    "            \"/html/body/div[1]/div/div[2]/div[1]/div/div[2]/ul/li/div/a\")\n",
    "        for data in seongsoo_2dong_detail_list[2:]:\n",
    "            url_all_list.append(data.get_attribute('href'))\n",
    "        button = driver.find_element_by_xpath('/html/body/div[1]/div/div[2]/div[1]/div/div[2]/div/div/div/button[2]')\n",
    "        driver.execute_script(\"arguments[0].click();\", button)\n",
    "    print(len(url_all_list))\n",
    "    driver.close()\n",
    "    return url_all_list"
   ]
  },
  {
   "cell_type": "code",
   "execution_count": 57,
   "metadata": {},
   "outputs": [],
   "source": [
    "import os\n",
    "import re\n",
    "import time\n",
    "import urllib\n",
    "\n",
    "from django.core.files import File\n",
    "from selenium import webdriver\n",
    "from selenium.common.exceptions import NoSuchElementException, UnexpectedAlertPresentException\n"
   ]
  },
  {
   "cell_type": "code",
   "execution_count": 3,
   "metadata": {},
   "outputs": [
    {
     "name": "stdout",
     "output_type": "stream",
     "text": [
      "55\n",
      "99\n"
     ]
    }
   ],
   "source": [
    "driver = webdriver.Chrome('/Users/mac/projects/ChromeWebDriver/chromedriver')\n",
    "# driver = webdriver.Chrome('/Users/moonpeter/Desktop/Selenium/chromedriver')\n",
    "\n",
    "# 다방 성수동 매물 url\n",
    "url_all_list = find_apartment_urls()\n",
    "url_all_list += find_urls()"
   ]
  },
  {
   "cell_type": "code",
   "execution_count": 135,
   "metadata": {},
   "outputs": [],
   "source": [
    "driver = webdriver.Chrome('/Users/mac/projects/ChromeWebDriver/chromedriver')"
   ]
  },
  {
   "cell_type": "code",
   "execution_count": 136,
   "metadata": {},
   "outputs": [],
   "source": [
    "driver.get('https://www.dabangapp.com/room/5e33bb027bfab713de85a774')\n"
   ]
  },
  {
   "cell_type": "code",
   "execution_count": 137,
   "metadata": {},
   "outputs": [],
   "source": [
    "post_type = driver.find_element_by_xpath('/html/body/div[1]/div/div[1]/div/ul/li[1]/p/span')\n",
    "post_type = post_type.get_attribute('innerText')\n",
    "\n",
    "# 방 정보 설명\n",
    "description = driver.find_elements_by_xpath(\"/html/body/div[1]/div/div[4]/div/div\")\n",
    "description = description[0].get_attribute(\"innerText\")\n",
    "description.replace(\"\\n\", \"\")\n",
    "\n",
    "# 매물 형식\n",
    "unrefined_salesform = driver.find_elements_by_xpath('/html/body/div[1]/div/div[1]/div/ul/li[1]/div')\n",
    "salesForm = unrefined_salesform[0].get_attribute(\"innerText\")\n",
    "salesForm = salesForm.replace('/', ' ')\n",
    "salesForm = salesForm.replace('\\n', '')\n",
    "salesForm = salesForm.split()\n",
    "salesType = salesForm[0]  # sales type\n"
   ]
  },
  {
   "cell_type": "code",
   "execution_count": 139,
   "metadata": {},
   "outputs": [
    {
     "ename": "SyntaxError",
     "evalue": "'continue' not properly in loop (<ipython-input-139-dd40a57ebd7a>, line 40)",
     "output_type": "error",
     "traceback": [
      "\u001b[0;36m  File \u001b[0;32m\"<ipython-input-139-dd40a57ebd7a>\"\u001b[0;36m, line \u001b[0;32m40\u001b[0m\n\u001b[0;31mSyntaxError\u001b[0m\u001b[0;31m:\u001b[0m 'continue' not properly in loop\n"
     ]
    }
   ],
   "source": [
    "try:\n",
    "        button = driver.find_element_by_xpath(\"/html/body/div[1]/div/div[1]/div/ul/li/button\")\n",
    "        driver.execute_script(\"arguments[0].click();\", button)\n",
    "\n",
    "        name = driver.find_element_by_xpath('/html/body/div[4]/div/div/div/div[1]/div[1]/h1')\n",
    "        name = name.get_attribute('innerText')\n",
    "\n",
    "        address = driver.find_element_by_xpath('/html/body/div[4]/div/div/div/div[1]/div[1]/p')\n",
    "        address = address.get_attribute('innerText')\n",
    "        try:\n",
    "            manager = driver.find_element_by_xpath('/html/body/div[4]/div/div/div/div[2]/div[2]/p[1]')\n",
    "            manager = manager.get_attribute('innerText')\n",
    "\n",
    "            tel = driver.find_element_by_xpath('/html/body/div[4]/div/div/div/div[3]/div[2]/p[2]')\n",
    "            tel = tel.get_attribute('innerText')\n",
    "        except NoSuchElementException:\n",
    "            # address = None\n",
    "            # name = None\n",
    "            manager = driver.find_element_by_xpath('/html/body/div[4]/div/div/div/div/div[2]/p[1]')\n",
    "            manager = manager.get_attribute('innerText')\n",
    "\n",
    "            tel = driver.find_element_by_xpath('/html/body/div[4]/div/div/div/div/div[2]/p[2]')\n",
    "            tel = tel.get_attribute('innerText')\n",
    "    except NoSuchElementException:\n",
    "        # address = None\n",
    "        # name = None\n",
    "        manager = driver.find_element_by_xpath('/html/body/div[4]/div/div/div/div/div[2]/p[1]')\n",
    "        manager = manager.get_attribute('innerText')\n",
    "\n",
    "        tel = driver.find_element_by_xpath('/html/body/div[4]/div/div/div/div/div[2]/p[2]')\n",
    "        tel = tel.get_attribute('innerText')\n",
    "\n",
    "except UnexpectedAlertPresentException:\n",
    "    # is_not_private_post = False\n",
    "    continue"
   ]
  },
  {
   "cell_type": "code",
   "execution_count": 147,
   "metadata": {},
   "outputs": [],
   "source": [
    "\n",
    "\n",
    "button = driver.find_element_by_xpath(\"/html/body/div[1]/div/div[1]/div/ul/li/button\")\n",
    "driver.execute_script(\"arguments[0].click();\", button)\n",
    "try:\n",
    "    name = driver.find_element_by_xpath('/html/body/div[4]/div/div/div/div[1]/div[1]/h1')\n",
    "    name = name.get_attribute('innerText')\n",
    "\n",
    "    address = driver.find_element_by_xpath('/html/body/div[4]/div/div/div/div[1]/div[1]/p')\n",
    "    address = address.get_attribute('innerText')\n",
    "\n",
    "    manager = driver.find_element_by_xpath('/html/body/div[4]/div/div/div/div[2]/div[2]/p[1]')\n",
    "    manager = manager.get_attribute('innerText')\n",
    "\n",
    "    tel = driver.find_element_by_xpath('/html/body/div[4]/div/div/div/div[3]/div[2]/p[2]')\n",
    "    tel = tel.get_attribute('innerText')\n",
    "except NoSuchElementException:\n",
    "    address = None\n",
    "    name = None\n",
    "    manager = driver.find_element_by_xpath('/html/body/div[4]/div/div/div/div/div[2]/p[1]')\n",
    "    manager = manager.get_attribute('innerText')\n",
    "\n",
    "    tel = driver.find_element_by_xpath('/html/body/div[4]/div/div/div/div/div[2]/p[2]')\n",
    "    tel = tel.get_attribute('innerText')\n",
    "\n",
    "if '대표' in tel:\n",
    "    tel = driver.find_element_by_xpath('/html/body/div[4]/div/div/div/div[3]/div[2]/p[2]')\n",
    "    \n",
    "if '(' in manager:\n",
    "    manager = manager.split('(')\n",
    "    manager = manager[0]\n",
    "#  /html/body/div[4]/div/div/div/div[3]/div[2]/p[2] 바뀔 전화번호 "
   ]
  },
  {
   "cell_type": "code",
   "execution_count": 148,
   "metadata": {},
   "outputs": [],
   "source": [
    "name"
   ]
  },
  {
   "cell_type": "code",
   "execution_count": 149,
   "metadata": {},
   "outputs": [],
   "source": [
    "address"
   ]
  },
  {
   "cell_type": "code",
   "execution_count": 153,
   "metadata": {},
   "outputs": [],
   "source": [
    "if '(' in manager:\n",
    "    manager = manager.split('(')\n",
    "    manager = manager[0]"
   ]
  },
  {
   "cell_type": "code",
   "execution_count": 154,
   "metadata": {},
   "outputs": [
    {
     "data": {
      "text/plain": [
       "'Hyunju Park '"
      ]
     },
     "execution_count": 154,
     "metadata": {},
     "output_type": "execute_result"
    }
   ],
   "source": [
    "manager"
   ]
  },
  {
   "cell_type": "code",
   "execution_count": null,
   "metadata": {},
   "outputs": [],
   "source": []
  }
 ],
 "metadata": {
  "kernelspec": {
   "display_name": "Python 3",
   "language": "python",
   "name": "python3"
  },
  "language_info": {
   "codemirror_mode": {
    "name": "ipython",
    "version": 3
   },
   "file_extension": ".py",
   "mimetype": "text/x-python",
   "name": "python",
   "nbconvert_exporter": "python",
   "pygments_lexer": "ipython3",
   "version": "3.7.4"
  }
 },
 "nbformat": 4,
 "nbformat_minor": 4
}
