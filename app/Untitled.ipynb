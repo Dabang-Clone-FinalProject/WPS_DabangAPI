{
 "cells": [
  {
   "cell_type": "code",
   "execution_count": 182,
   "metadata": {},
   "outputs": [],
   "source": [
    "from selenium import webdriver\n",
    "import time\n",
    "from selenium.common.exceptions import NoSuchElementException\n",
    "from bs4 import BeautifulSoup\n",
    "import re\n",
    "import urllib.request\n",
    "import cssutils\n"
   ]
  },
  {
   "cell_type": "code",
   "execution_count": 183,
   "metadata": {},
   "outputs": [],
   "source": [
    "driver = webdriver.Chrome('/Users/mac/projects/ChromeWebDriver/chromedriver')"
   ]
  },
  {
   "cell_type": "code",
   "execution_count": 184,
   "metadata": {},
   "outputs": [],
   "source": [
    "driver.get('https://www.dabangapp.com/room/5e6f0321aeeb591276221de3')"
   ]
  },
  {
   "cell_type": "code",
   "execution_count": 193,
   "metadata": {},
   "outputs": [
    {
     "name": "stdout",
     "output_type": "stream",
     "text": [
      "test_url >> ['https://d1774jszgerdmk.cloudfront.net/1024/8d36b03f-c729-442b-96a5-c673b6d2382f']\n",
      "test_url >> ['https://d1774jszgerdmk.cloudfront.net/1024/12d03a57-65a6-4749-a284-2b4e5f90a088']\n",
      "test_url >> ['https://d1774jszgerdmk.cloudfront.net/1024/2dcb8556-91c1-4d4a-87b7-db31f08566e4']\n",
      "test_url >> ['https://d1774jszgerdmk.cloudfront.net/1024/f8c3e198-3aab-4ba9-aa5b-9dee007e33e4']\n",
      "test_url >> ['https://d1774jszgerdmk.cloudfront.net/1024/105b6568-781b-46f8-9ce0-07b910171995']\n",
      "test_url >> []\n",
      "빈 리스트\n"
     ]
    }
   ],
   "source": [
    "html = driver.page_source\n",
    "soup = BeautifulSoup(html, 'html.parser')\n",
    "\n",
    "div_list = driver.find_elements_by_xpath('/html/body/div[1]/div/div[3]/div/div[2]/div')\n",
    "                                        \n",
    "\n",
    "\n",
    "detail = []\n",
    "image_list = []\n",
    "\n",
    "for i, url in enumerate(div_list):\n",
    "    cls_name = url.get_attribute('class')\n",
    "    cls_name = cls_name.split(' ')\n",
    "    cls_name = cls_name[1]    \n",
    "    photo=driver.execute_script(f'return window.getComputedStyle(document.querySelector(\".{cls_name}\"),\":after\").getPropertyValue(\"background\")')\n",
    "    test_url = re.findall(r'\"(.*?)\"', photo)\n",
    "    print('test_url >>', test_url)\n",
    "    \n",
    "    if test_url:\n",
    "        image_list.append(test_url)\n",
    "    else:\n",
    "        print('빈 리스트')\n",
    "    \n",
    "    "
   ]
  },
  {
   "cell_type": "code",
   "execution_count": null,
   "metadata": {},
   "outputs": [],
   "source": []
  },
  {
   "cell_type": "code",
   "execution_count": null,
   "metadata": {},
   "outputs": [],
   "source": []
  },
  {
   "cell_type": "code",
   "execution_count": null,
   "metadata": {},
   "outputs": [],
   "source": [
    "detail = []\n",
    "for i in div_list:\n",
    "    name = i.get_attribute('class')\n",
    "\n",
    "    name = name.split(' ')\n",
    "    name = name[1]\n",
    "    photo=driver.execute_script(f'return window.getComputedStyle(document.querySelector(\".{name}\"),\":after\").getPropertyValue(\"background\")')\n",
    "    print(photo)\n",
    "    print(type(photo))"
   ]
  },
  {
   "cell_type": "code",
   "execution_count": 4,
   "metadata": {},
   "outputs": [
    {
     "data": {
      "text/plain": [
       "'아파트'"
      ]
     },
     "execution_count": 4,
     "metadata": {},
     "output_type": "execute_result"
    }
   ],
   "source": [
    "time.sleep(2)\n",
    "post_type = driver.find_element_by_xpath('/html/body/div[1]/div/div[1]/div/ul/li[1]/p/span')\n",
    "post_type = post_type.get_attribute('innerText')\n",
    "post_type"
   ]
  },
  {
   "cell_type": "code",
   "execution_count": 5,
   "metadata": {},
   "outputs": [
    {
     "name": "stdout",
     "output_type": "stream",
     "text": [
      "park (직거래)\n",
      "010-2049-3514\n"
     ]
    }
   ],
   "source": [
    "# Broker\n",
    "try:\n",
    "    button = driver.find_element_by_xpath(\"/html/body/div[1]/div/div[1]/div/ul/li/button\")\n",
    "    driver.execute_script(\"arguments[0].click();\", button)\n",
    "    \n",
    "    name = driver.find_element_by_xpath('/html/body/div[4]/div/div/div/div[1]/div[1]/h1')\n",
    "    name = name.get_attribute('innerText')\n",
    "    print(name)\n",
    "    address = driver.find_element_by_xpath('/html/body/div[4]/div/div/div/div[1]/div[1]/p')\n",
    "    address = address.get_attribute('innerText')\n",
    "    print(address)\n",
    "    manager = driver.find_element_by_xpath('/html/body/div[4]/div/div/div/div[2]/div[2]/p[1]')\n",
    "    manager = manager.get_attribute('innerText')\n",
    "    print(manager)\n",
    "    tel = driver.find_element_by_xpath('/html/body/div[4]/div/div/div/div[2]/div[2]/p[2]')\n",
    "    tel = tel.get_attribute('innerText')\n",
    "    print(tel)\n",
    "    print(name, address, manager, tel)\n",
    "except NoSuchElementException:\n",
    "    manager = driver.find_element_by_xpath('/html/body/div[4]/div/div/div/div/div[2]/p[1]')\n",
    "    manager = manager.get_attribute('innerText')\n",
    "    tel = driver.find_element_by_xpath('/html/body/div[4]/div/div/div/div/div[2]/p[2]')\n",
    "    tel = tel.get_attribute('innerText')\n",
    "    print(manager)\n",
    "    print(tel)\n",
    "button = driver.find_element_by_xpath(\"/html/body/div[4]/div/div/header/button\")\n",
    "driver.execute_script(\"arguments[0].click();\", button)"
   ]
  },
  {
   "cell_type": "code",
   "execution_count": 6,
   "metadata": {},
   "outputs": [],
   "source": [
    "# 상세 설명 보기\n",
    "try:\n",
    "    button = driver.find_element_by_xpath(\"/html/body/div[1]/div/div[4]/div/div/button\")\n",
    "    driver.execute_script(\"arguments[0].click();\", button)\n",
    "except NoSuchElementException:\n",
    "    pass\n"
   ]
  },
  {
   "cell_type": "code",
   "execution_count": 7,
   "metadata": {},
   "outputs": [
    {
     "data": {
      "text/plain": [
       "'올수리 정남향 압구정강남교통 편리하나은행융자 잔액2억1천정도만남기고 전세계약 원합니다ㆍ 감액등기해서 전세보증보혐로도 대납해줘서 임차인걱정없고요 린나이보일러도70주고작년설치 및ㅈ거실확장하고 올수리되어잏으며 작은방하나에 ㄷ자형책상및서재만들어져있습니다  입주는4-15일부터가능하며 빠르신분우대합니다'"
      ]
     },
     "execution_count": 7,
     "metadata": {},
     "output_type": "execute_result"
    }
   ],
   "source": [
    "unrefined_description = driver.find_elements_by_xpath(\"/html/body/div[1]/div/div[4]/div/div\")\n",
    "description = unrefined_description[0].get_attribute(\"innerText\")\n",
    "description.replace(\"\\n\", \"\")"
   ]
  },
  {
   "cell_type": "code",
   "execution_count": 8,
   "metadata": {},
   "outputs": [
    {
     "name": "stdout",
     "output_type": "stream",
     "text": [
      "salesType: 매물 종류는>> 전세\n",
      "salesDepositChar:  4억\n",
      "salesdepositInt:  400000000\n",
      "salesmonthlyChar:  5000만원\n",
      "salesmonthlyInt:  50000000\n"
     ]
    }
   ],
   "source": [
    "unrefined_salesform = driver.find_elements_by_xpath('/html/body/div[1]/div/div[1]/div/ul/li[1]/div')\n",
    "salesForm = unrefined_salesform[0].get_attribute(\"innerText\")\n",
    "salesForm = salesForm.replace('/', ' ')\n",
    "salesForm = salesForm.replace('\\n', '')\n",
    "salesForm = salesForm.split()\n",
    "salesType = salesForm[0]  # sales type\n",
    "print('salesType: 매물 종류는>>', salesType)\n",
    "salesDepositChar = salesForm[1]\n",
    "if salesDepositChar.find('원'):\n",
    "    salesDepositChar = salesDepositChar.replace('원', '')\n",
    "    print('salesDepositChar: ', salesDepositChar)\n",
    "salesdepositInt = salesDepositChar.replace('억', '00000000')\n",
    "if salesdepositInt.find('만'):\n",
    "    salesdepositInt = salesdepositInt.replace('만', '')\n",
    "salesdepositInt = int(salesdepositInt)\n",
    "print('salesdepositInt: ', salesdepositInt)\n",
    "\n",
    "\n",
    "try:\n",
    "    salesmonthlyChar = salesForm[2]\n",
    "    print('salesmonthlyChar: ', salesmonthlyChar)\n",
    "    salesmonthlyInt = salesmonthlyChar.replace('만원', '0000')\n",
    "    salesmonthlyInt = int(salesmonthlyInt)\n",
    "    print('salesmonthlyInt: ', salesmonthlyInt)\n",
    "    if salesType == '전세':\n",
    "        # 전세는 금액이 억, 만원이 붙어 있는 경우가 있어서 이렇게 처리.\n",
    "        salesdepositInt = salesdepositInt + salesmonthlyInt\n",
    "        salesDepositChar = salesDepositChar + salesmonthlyChar\n",
    "except IndexError:\n",
    "    salesmonthlyInt = 0\n",
    "    salesmonthlyChar = ''"
   ]
  },
  {
   "cell_type": "code",
   "execution_count": 9,
   "metadata": {},
   "outputs": [
    {
     "name": "stdout",
     "output_type": "stream",
     "text": [
      "[<selenium.webdriver.remote.webelement.WebElement (session=\"75b37b2ef5ff8fe3fb247349b135cae0\", element=\"0.28095169457930247-8\")>]\n"
     ]
    },
    {
     "data": {
      "text/plain": [
       "'서울시 성동구 행당동 344'"
      ]
     },
     "execution_count": 9,
     "metadata": {},
     "output_type": "execute_result"
    }
   ],
   "source": [
    "if post_type ==\"아파트\":\n",
    "    if salesType == \"매매\":\n",
    "        address = driver.find_elements_by_xpath('/html/body/div[1]/div/div[5]/div[3]/div/p')\n",
    "    else:\n",
    "        address = driver.find_elements_by_xpath('/html/body/div[1]/div/div[5]/div[5]/div/p')\n",
    "else:\n",
    "    address = driver.find_elements_by_xpath('/html/body/div[1]/div/div[5]/div[4]/div/p')\n",
    "if not address:\n",
    "    address = driver.find_elements_by_xpath('/html/body/div[1]/div/div[5]/div/div/p')\n",
    "print(address)\n",
    "address = address[0].get_attribute('innerText')\n",
    "address"
   ]
  },
  {
   "cell_type": "code",
   "execution_count": 10,
   "metadata": {},
   "outputs": [
    {
     "name": "stdout",
     "output_type": "stream",
     "text": [
      "floor>> 2층 \n",
      "totalFloor >>  15층\n"
     ]
    }
   ],
   "source": [
    "unrefined_floor = driver.find_elements_by_xpath('/html/body/div[1]/div/div[2]/div/ul/li[1]/div')\n",
    "total_floor = unrefined_floor[0].get_attribute('innerText')\n",
    "total_floor = total_floor.split('/')\n",
    "floor = total_floor[0]\n",
    "floor = floor\n",
    "print('floor>>', floor)\n",
    "totalFloor = total_floor[1]\n",
    "totalFloor = totalFloor.replace(' ', '')\n",
    "totalFloor = totalFloor\n",
    "print('totalFloor >> ', totalFloor)"
   ]
  },
  {
   "cell_type": "code",
   "execution_count": 11,
   "metadata": {},
   "outputs": [
    {
     "name": "stdout",
     "output_type": "stream",
     "text": [
      "area >> 84.99 / 102.07㎡\n",
      "areaChar >>  84.99 / 102.07㎡\n"
     ]
    }
   ],
   "source": [
    "unrefined_area = driver.find_elements_by_xpath('/html/body/div[1]/div/div[2]/div/ul/li[2]/div/span')\n",
    "area = unrefined_area[0].get_attribute('innerText')\n",
    "print('area >>', area)\n",
    "areaChar = area\n",
    "print('areaChar >> ', areaChar)"
   ]
  },
  {
   "cell_type": "code",
   "execution_count": 12,
   "metadata": {},
   "outputs": [],
   "source": [
    "# 평수로 변환해주는 버튼 클릭\n",
    "time.sleep(1)\n",
    "driver.find_element_by_xpath('/html/body/div[1]/div/div[2]/div/ul/li[2]/div/button').click()\n"
   ]
  },
  {
   "cell_type": "code",
   "execution_count": 13,
   "metadata": {},
   "outputs": [
    {
     "name": "stdout",
     "output_type": "stream",
     "text": [
      "supplyAreaChar >>  26 / 31평\n",
      "supplyAreaInt >>  31\n"
     ]
    }
   ],
   "source": [
    "unrefined_area = driver.find_elements_by_xpath('/html/body/div[1]/div/div[2]/div/ul/li[2]/div/span')\n",
    "supplyAreaChar = unrefined_area[0].get_attribute('innerText')\n",
    "print('supplyAreaChar >> ', supplyAreaChar)\n",
    "supplyAreaInt = supplyAreaChar.split('/')\n",
    "supplyAreaInt = supplyAreaInt[1].replace('평', '')\n",
    "\n",
    "supplyAreaInt = supplyAreaInt.strip()\n",
    "\n",
    "supplyAreaInt = int(supplyAreaInt)\n",
    "print('supplyAreaInt >> ', supplyAreaInt)"
   ]
  },
  {
   "cell_type": "markdown",
   "metadata": {},
   "source": [
    "### 매매에서는 shortRent가 None"
   ]
  },
  {
   "cell_type": "code",
   "execution_count": 14,
   "metadata": {},
   "outputs": [
    {
     "name": "stdout",
     "output_type": "stream",
     "text": [
      "shortRent >> False\n"
     ]
    }
   ],
   "source": [
    "try:\n",
    "    if post_type=='아파트':\n",
    "        unrefined_shortRent = driver.find_elements_by_xpath(\n",
    "            '/html/body/div[1]/div/div[5]/div[3]/div/table/tbody/tr/td[5]/p')\n",
    "    else:\n",
    "        unrefined_shortRent = driver.find_elements_by_xpath('/html/body/div[1]/div/div[5]/div[2]/div/table/tbody/tr/td[5]/p')\n",
    "        if not unrefined_shortRent:\n",
    "            unrefined_shortRent = driver.find_elements_by_xpath('/html/body/div[1]/div/div[5]/div[3]/div/table/tbody/tr/td[4]/p')\n",
    "    shortRent = unrefined_shortRent[0].get_attribute('innerText')\n",
    "    shortRent = shortRent\n",
    "\n",
    "    if shortRent == '불가능':\n",
    "        shortRent = False\n",
    "    else:\n",
    "        shortRent = True\n",
    "        \n",
    "except IndexError:\n",
    "    # 매매에서는 단기임대가 없음. \n",
    "    shortRent=None\n",
    "print('shortRent >>', shortRent)"
   ]
  },
  {
   "cell_type": "markdown",
   "metadata": {},
   "source": [
    "## management가 안보이면 None"
   ]
  },
  {
   "cell_type": "code",
   "execution_count": 15,
   "metadata": {},
   "outputs": [],
   "source": [
    "try:\n",
    "    if post_type==\"아파트\":\n",
    "        management = driver.find_element_by_xpath('/html/body/div[1]/div/div[5]/div[3]/div/table/tbody/tr/td[3]')\n",
    "    else:\n",
    "        if salesType == \"매매\":\n",
    "            management = driver.find_element_by_xpath('/html/body/div[1]/div/div[5]/div[2]/div/table/tbody/tr/td[2]')\n",
    "        else:\n",
    "            management = driver.find_element_by_xpath('/html/body/div[1]/div/div[5]/div[2]/div/table/tbody/tr/td[3]')\n",
    "except NoSuchElementException:\n",
    "    management = None\n",
    "#     management = driver.find_element_by_xpath('/html/body/div[1]/div/div[5]/div[2]/div/table/tbody/tr/td[3]')\n",
    "try:\n",
    "    management = management.get_attribute('innerText')\n",
    "    management = management.replace('\\n', '')\n",
    "    management = management.replace(' ', '')\n",
    "    management = management.replace('(', ' ')\n",
    "    management = management.replace(')', ' ')\n",
    "    management = management.replace(',', ' ')\n",
    "    management = management.strip(' ')\n",
    "    management = management.split(' ')\n",
    "except AttributeError:\n",
    "    pass"
   ]
  },
  {
   "cell_type": "code",
   "execution_count": 16,
   "metadata": {
    "scrolled": true
   },
   "outputs": [
    {
     "name": "stdout",
     "output_type": "stream",
     "text": [
      "totalFee >>  18\n",
      "management >> ['전기세', '수도세', '청소비', '유선TV']\n"
     ]
    }
   ],
   "source": [
    "try:\n",
    "    managementPay = management.pop(0)\n",
    "    if managementPay.find('만원'):\n",
    "        managementPay = managementPay.replace('만원', ' ')\n",
    "        if managementPay == '없음':\n",
    "            managementPay = 0\n",
    "        managementPay = int(managementPay)\n",
    "    else:\n",
    "        managementPay = 0\n",
    "    totalFee = managementPay\n",
    "    print('totalFee >> ', totalFee)\n",
    "    print('management >>', management)\n",
    "except IndexError:\n",
    "    pass\n",
    "except AttributeError:\n",
    "    pass\n",
    "except NameError:\n",
    "    pass"
   ]
  },
  {
   "cell_type": "code",
   "execution_count": 17,
   "metadata": {},
   "outputs": [],
   "source": [
    "try:\n",
    "    if post_type ==\"아파트\":\n",
    "        if salesType ==\"매매\":\n",
    "            unrefined_parking = None\n",
    "        else:\n",
    "            unrefined_parking = driver.find_elements_by_xpath('/html/body/div[1]/div/div[5]/div[3]/div/table/tbody/tr/td[4]/p')\n",
    "    else:\n",
    "        if salesType == \"매매\":\n",
    "        # 일반 주택 매매\n",
    "            unrefined_parking = driver.find_elements_by_xpath(\"/html/body/div[1]/div/div[5]/div[2]/div/table/tbody/tr/td[3]\")\n",
    "        else:    \n",
    "            unrefined_parking = driver.find_elements_by_xpath(\"/html/body/div[1]/div/div[5]/div[2]/div/table/tbody/tr/td[4]/p\")\n",
    "    parkingDetail = unrefined_parking[0].get_attribute('innerText')\n",
    "except IndexError:\n",
    "    unrefined_parking = driver.find_elements_by_xpath(\n",
    "        '/html/body/div[1]/div/div[5]/div[3]/div/table/tbody/tr/td[4]/p'\n",
    "    )\n",
    "    parkingDetail = unrefined_parking[0].get_attribute('innerText')\n",
    "except TypeError:\n",
    "    parkingDetail = True"
   ]
  },
  {
   "cell_type": "code",
   "execution_count": 18,
   "metadata": {},
   "outputs": [
    {
     "data": {
      "text/plain": [
       "'가능(무료)'"
      ]
     },
     "execution_count": 18,
     "metadata": {},
     "output_type": "execute_result"
    }
   ],
   "source": [
    "parkingDetail"
   ]
  },
  {
   "cell_type": "code",
   "execution_count": 19,
   "metadata": {},
   "outputs": [
    {
     "name": "stdout",
     "output_type": "stream",
     "text": [
      "parkingTF >> True\n"
     ]
    }
   ],
   "source": [
    "if parkingDetail == '불가':\n",
    "    parkingTF = False\n",
    "else:\n",
    "    parkingTF = True\n",
    "print('parkingTF >>', parkingTF)"
   ]
  },
  {
   "cell_type": "code",
   "execution_count": 20,
   "metadata": {},
   "outputs": [],
   "source": [
    "try:\n",
    "    if not salesType == \"매매\":\n",
    "        if post_type ==\"아파트\":\n",
    "            unrefined_living_expenses = driver.find_elements_by_xpath('/html/body/div[1]/div/div[5]/div[3]/div/div/div/label')\n",
    "            unrefined_living_expenses_detail = driver.find_elements_by_xpath('/html/body/div[1]/div/div[5]/div[3]/div/div/div/span')\n",
    "        else:\n",
    "            try:\n",
    "                unrefined_living_expenses = driver.find_elements_by_xpath('/html/body/div[1]/div/div[5]/div[2]/div/div/div/label')\n",
    "                unrefined_living_expenses_detail = driver.find_elements_by_xpath('/html/body/div[1]/div/div[5]/div[2]/div/div/div/span')\n",
    "            except NoSuchElementException:\n",
    "                unrefined_living_expenses = driver.find_elements_by_xpath('/html/body/div[1]/div/div[5]/div[3]/div/div/div/label')\n",
    "                unrefined_living_expenses_detail = driver.find_elements_by_xpath('/html/body/div[1]/div/div[5]/div[3]/div/table/tbody/tr/td[3]/p[2]/span')                \n",
    "    else:\n",
    "        living_expenses = None\n",
    "        living_expenses_detail = None\n",
    "except NoSuchElementException:\n",
    "    pass"
   ]
  },
  {
   "cell_type": "code",
   "execution_count": 21,
   "metadata": {},
   "outputs": [
    {
     "name": "stdout",
     "output_type": "stream",
     "text": [
      "18만 원 + α\n",
      "(관리비)\n"
     ]
    }
   ],
   "source": [
    "try:\n",
    "    unrefined_living_expenses = unrefined_living_expenses[0].get_attribute('innerText')\n",
    "    print(unrefined_living_expenses)\n",
    "    living_expenses = unrefined_living_expenses.replace(' ', '')\n",
    "    living_expenses_detail = unrefined_living_expenses_detail[0].get_attribute('innerText')\n",
    "    print(living_expenses_detail)\n",
    "except IndexError:\n",
    "    unrefined_living_expenses = driver.find_elements_by_xpath(\n",
    "        '/html/body/div[1]/div/div[5]/div[3]/div/div/div/label'\n",
    "    )\n",
    "    unrefined_living_expenses_detail = driver.find_elements_by_xpath(\n",
    "        '/html/body/div[1]/div/div[5]/div[3]/div/div/div/span')\n",
    "    unrefined_living_expenses = unrefined_living_expenses[0].get_attribute('innerText')\n",
    "    living_expenses = unrefined_living_expenses.replace(' ', '')\n",
    "    living_expenses_detail = unrefined_living_expenses_detail[0].get_attribute('innerText')\n",
    "except TypeError:\n",
    "    pass\n",
    "except NameError:\n",
    "    pass"
   ]
  },
  {
   "cell_type": "code",
   "execution_count": 22,
   "metadata": {},
   "outputs": [
    {
     "name": "stdout",
     "output_type": "stream",
     "text": [
      "living_expenses >> 18만원+α\n",
      "living_expenses_detail >>  (관리비)\n"
     ]
    }
   ],
   "source": [
    "print('living_expenses >>', living_expenses)\n",
    "print('living_expenses_detail >> ', living_expenses_detail)"
   ]
  },
  {
   "cell_type": "code",
   "execution_count": 23,
   "metadata": {},
   "outputs": [
    {
     "data": {
      "text/plain": [
       "'2020.04.15'"
      ]
     },
     "execution_count": 23,
     "metadata": {},
     "output_type": "execute_result"
    }
   ],
   "source": [
    "if salesType == \"매매\":\n",
    "    if post_type ==\"아파트\":\n",
    "        moveIn = driver.find_element_by_xpath('/html/body/div[1]/div/div[2]/div/ul/li[7]/div')\n",
    "    else:\n",
    "        moveIn = driver.find_element_by_xpath('/html/body/div[1]/div/div[2]/div/ul/li[7]/div')\n",
    "else:\n",
    "    if post_type ==\"아파트\":\n",
    "        moveIn = driver.find_element_by_xpath('/html/body/div[1]/div/div[2]/div/ul/li[9]/div')\n",
    "    else:\n",
    "        moveIn = driver.find_element_by_xpath('/html/body/div[1]/div/div[2]/div/ul/li[9]/div')\n",
    "moveIn.get_attribute('innerText')"
   ]
  },
  {
   "cell_type": "code",
   "execution_count": 24,
   "metadata": {},
   "outputs": [
    {
     "data": {
      "text/plain": [
       "'2020.04.15'"
      ]
     },
     "execution_count": 24,
     "metadata": {},
     "output_type": "execute_result"
    }
   ],
   "source": [
    "moveIn.get_attribute('innerText')"
   ]
  },
  {
   "cell_type": "code",
   "execution_count": 25,
   "metadata": {},
   "outputs": [
    {
     "name": "stdout",
     "output_type": "stream",
     "text": [
      "['옵션', '책상', '옷장', '신발장', '가스레인지']\n",
      "result option ['책상', '옷장', '신발장']\n",
      "안전 시설 없음.\n"
     ]
    }
   ],
   "source": [
    "# option & sceurity\n",
    "\n",
    "try:\n",
    "    option_tag = driver.find_element_by_name('option')\n",
    "\n",
    "    option_tag = option_tag.get_attribute('innerText')\n",
    "\n",
    "    option_tag = option_tag.split('보안/안전시설')\n",
    "\n",
    "\n",
    "    option = option_tag[0]\n",
    "    option = option.split('\\n\\n')\n",
    "    print(option)\n",
    "    del option[0]\n",
    "    del option[-1]\n",
    "    \n",
    "    print('result option', option)\n",
    "    \n",
    "    security = option_tag[1]\n",
    "    security = security.split('\\n\\n')\n",
    "    del security[-1]\n",
    "    del security[0]\n",
    "    print('result security', security)\n",
    "except IndexError:\n",
    "    print('안전 시설 없음.')\n",
    "    security = None\n",
    "except NoSuchElementException:\n",
    "    print('옵션, 안전시설 없음')\n",
    "    option = None\n",
    "    security = None"
   ]
  },
  {
   "cell_type": "code",
   "execution_count": 34,
   "metadata": {},
   "outputs": [
    {
     "name": "stdout",
     "output_type": "stream",
     "text": [
      "개별난방\n"
     ]
    }
   ],
   "source": [
    "heatingType = driver.find_element_by_xpath('/html/body/div[1]/div/div[2]/div/ul/li[3]/div')\n",
    "heatingType = heatingType.get_attribute('innerText')\n",
    "print(heatingType)"
   ]
  },
  {
   "cell_type": "code",
   "execution_count": 26,
   "metadata": {},
   "outputs": [
    {
     "name": "stdout",
     "output_type": "stream",
     "text": [
      "pet >> False\n"
     ]
    }
   ],
   "source": [
    "if salesType==\"매매\":\n",
    "    if post_type==\"아파트\":\n",
    "        pet = True\n",
    "    else:\n",
    "        pet = True\n",
    "else:\n",
    "    if post_type==\"아파트\":\n",
    "        pet = driver.find_element_by_xpath('/html/body/div[1]/div/div[2]/div/ul/li[7]/div')\n",
    "    else:\n",
    "        pet = driver.find_element_by_xpath('/html/body/div[1]/div/div[2]/div/ul/li[6]/div')\n",
    "    pet = pet.get_attribute('innerText')\n",
    "    if pet ==\"불가능\":\n",
    "        pet = False\n",
    "    else:\n",
    "        pet= True\n"
   ]
  },
  {
   "cell_type": "code",
   "execution_count": 27,
   "metadata": {},
   "outputs": [
    {
     "name": "stdout",
     "output_type": "stream",
     "text": [
      "elevator >>  True\n"
     ]
    }
   ],
   "source": [
    "if post_type==\"아파트\":\n",
    "    elevator = True\n",
    "else:\n",
    "    elevator = driver.find_element_by_xpath('/html/body/div[1]/div/div[2]/div/ul/li[5]/div')\n",
    "    elevator = elevator.get_attribute('innerText')\n",
    "    if elevator==\"있음\":\n",
    "        elevator = True\n",
    "    else:\n",
    "        elevator=False\n",
    "print('elevator >> ', elevator)"
   ]
  },
  {
   "cell_type": "code",
   "execution_count": 28,
   "metadata": {},
   "outputs": [
    {
     "name": "stdout",
     "output_type": "stream",
     "text": [
      "builtIn >> True\n"
     ]
    }
   ],
   "source": [
    "if post_type==\"아파트\":\n",
    "    builtIn = True\n",
    "else:\n",
    "    builtIn = driver.find_element_by_xpath('/html/body/div[1]/div/div[2]/div/ul/li[4]/div')\n",
    "    builtIn = builtIn.get_attribute('innerText')\n",
    "    if builtIn ==\"아님\":\n",
    "        builtIn = False\n",
    "    else:\n",
    "        builtIn = True\n",
    "print('builtIn >>', builtIn)"
   ]
  },
  {
   "cell_type": "code",
   "execution_count": 29,
   "metadata": {},
   "outputs": [
    {
     "name": "stdout",
     "output_type": "stream",
     "text": [
      "veranda >> True\n"
     ]
    }
   ],
   "source": [
    "#베란다\n",
    "if post_type ==\"아파트\":\n",
    "    veranda = True\n",
    "else:\n",
    "    if salesType =='매매':\n",
    "        veranda = driver.find_element_by_xpath('/html/body/div[1]/div/div[2]/div/ul/li[6]/div')\n",
    "        veranda = veranda.get_attribute('innerText')\n",
    "        if veranda == \"있음\":\n",
    "            veranda = True\n",
    "        else:\n",
    "            veranda = False\n",
    "    else:\n",
    "        veranda = driver.find_element_by_xpath('/html/body/div[1]/div/div[2]/div/ul/li[7]/div')\n",
    "        veranda = veranda.get_attribute('innerText')\n",
    "        if veranda=='있음':\n",
    "            veranda = True\n",
    "        else:\n",
    "            veranda = False\n",
    "print('veranda >>', veranda)"
   ]
  },
  {
   "cell_type": "code",
   "execution_count": 30,
   "metadata": {},
   "outputs": [
    {
     "name": "stdout",
     "output_type": "stream",
     "text": [
      "depositLoan >> False\n"
     ]
    }
   ],
   "source": [
    "# depositLoan 전세 대출 자금\n",
    "if post_type == '아파트':\n",
    "    if salesType == '매매':\n",
    "        depositLoan = True\n",
    "    else:\n",
    "        depositLoan = driver.find_element_by_xpath('/html/body/div[1]/div/div[2]/div/ul/li[8]/div')\n",
    "        depositLoan = depositLoan.get_attribute('innerText')\n",
    "        if depositLoan == '가능':\n",
    "            depositLoan = True\n",
    "        else:\n",
    "            depositLoan = False\n",
    "else:\n",
    "    if salesType == '매매':\n",
    "            depositLoan = True\n",
    "    else:\n",
    "        depositLoan = driver.find_element_by_xpath('/html/body/div[1]/div/div[2]/div/ul/li[8]/div')\n",
    "        depositLoan = depositLoan.get_attribute('innerText')\n",
    "        if depositLoan == '가능':\n",
    "            depositLoan = True\n",
    "        else:\n",
    "            depositLoan = False\n",
    "print('depositLoan >>', depositLoan)"
   ]
  },
  {
   "cell_type": "code",
   "execution_count": 31,
   "metadata": {},
   "outputs": [
    {
     "name": "stdout",
     "output_type": "stream",
     "text": [
      "totalCitizen >> 636세대\n"
     ]
    }
   ],
   "source": [
    "# totalCitizen \n",
    "if post_type == '아파트':\n",
    "    totalCitizen = driver.find_element_by_xpath('/html/body/div[1]/div/div[2]/div/ul/li[5]/div')\n",
    "    totalCitizen = totalCitizen.get_attribute('innerText')\n",
    "else:\n",
    "    totalCitizen = None\n",
    "print('totalCitizen >>', totalCitizen)"
   ]
  },
  {
   "cell_type": "code",
   "execution_count": 32,
   "metadata": {},
   "outputs": [
    {
     "name": "stdout",
     "output_type": "stream",
     "text": [
      "totalPark >> 0.8대\n"
     ]
    }
   ],
   "source": [
    "if post_type==\"아파트\":\n",
    "    totalPark = driver.find_element_by_xpath('/html/body/div[1]/div/div[2]/div/ul/li[6]/div')\n",
    "    totalPark = totalPark.get_attribute('innerText')\n",
    "else:\n",
    "    totalPark = None"
   ]
  },
  {
   "cell_type": "code",
   "execution_count": 33,
   "metadata": {},
   "outputs": [
    {
     "name": "stdout",
     "output_type": "stream",
     "text": [
      "complete >>  1995.05 준공\n"
     ]
    }
   ],
   "source": [
    "if post_type == '아파트':\n",
    "    complete = driver.find_element_by_xpath('/html/body/div[1]/div/div[2]/div/ul/li[4]/div')\n",
    "    complete = complete.get_attribute('innerText')\n",
    "else:\n",
    "    complete = None\n",
    "print('complete >> ', complete)"
   ]
  },
  {
   "cell_type": "code",
   "execution_count": null,
   "metadata": {},
   "outputs": [],
   "source": []
  }
 ],
 "metadata": {
  "kernelspec": {
   "display_name": "Python 3",
   "language": "python",
   "name": "python3"
  },
  "language_info": {
   "codemirror_mode": {
    "name": "ipython",
    "version": 3
   },
   "file_extension": ".py",
   "mimetype": "text/x-python",
   "name": "python",
   "nbconvert_exporter": "python",
   "pygments_lexer": "ipython3",
   "version": "3.7.4"
  }
 },
 "nbformat": 4,
 "nbformat_minor": 4
}
